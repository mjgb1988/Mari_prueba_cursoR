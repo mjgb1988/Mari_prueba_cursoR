{
  "nbformat": 4,
  "nbformat_minor": 0,
  "metadata": {
    "colab": {
      "name": "2-Imagenes.ipynb",
      "provenance": [],
      "collapsed_sections": [],
      "toc_visible": true,
      "include_colab_link": true
    },
    "kernelspec": {
      "name": "python3",
      "display_name": "Python 3"
    }
  },
  "cells": [
    {
      "cell_type": "markdown",
      "metadata": {
        "id": "view-in-github",
        "colab_type": "text"
      },
      "source": [
        "<a href=\"https://colab.research.google.com/github/mjgb1988/Mari_prueba_cursoR/blob/master/2_Imagenes.ipynb\" target=\"_parent\"><img src=\"https://colab.research.google.com/assets/colab-badge.svg\" alt=\"Open In Colab\"/></a>"
      ]
    },
    {
      "cell_type": "markdown",
      "metadata": {
        "id": "we5fjY78Srza",
        "colab_type": "text"
      },
      "source": [
        "![texto alternativo](https://digitalagri.es/wp-content/uploads/2018/06/digital-logo-def.png) \n",
        "## MÓDULO 6. ESTRATEGIAS DE SENSORIZACIÓN REMOTA\n",
        "F. Javier Mesas Carrascosa fjmesas@uco.es "
      ]
    },
    {
      "cell_type": "markdown",
      "metadata": {
        "id": "E0PbTVQBUMaO",
        "colab_type": "text"
      },
      "source": [
        "#Imágenes en Google Earth Engine\n",
        "\n",
        "---\n",
        "\n"
      ]
    },
    {
      "cell_type": "markdown",
      "metadata": {
        "id": "5hK_4PMZC6bQ",
        "colab_type": "text"
      },
      "source": [
        "Los datos raster en Earth Engine se representan mediante el objeto **Image**. \n",
        "\n",
        "Como ya sabemos, una imagen se compone de una o varias bandas y cada banda tiene su propio nombre, tipo de dato, escala... Además cada imagen tiene unos metadatos almacenados en un diccionario. A lo largo de los sucesivos cuadernos veremos como podremos acceder a una o varias imágenes de satélite a través del uso de estos metadatos.\n",
        "\n",
        "Concretamente en este cuaderno se van a estudiar los siguientes puntos:\n",
        "1. Introducción a Image.\n",
        "2. Metadatos e información de imágenes\n",
        "3. Visualización de imágenes\n",
        "4. Expresiones matemáticas\n",
        "\n",
        "Además de estas funcionalidades es posible aplicar métodos de convolución, operadore morfológicos, gradientes, texturas, etc..."
      ]
    },
    {
      "cell_type": "markdown",
      "metadata": {
        "id": "lUCOxRn5KtUE",
        "colab_type": "text"
      },
      "source": [
        "## **2.0 Preparación del entorno**\n",
        "\n",
        "Como ya se ha visto anteriormente, lo primero que debemos hacer es preparar el entorno de desarrollo."
      ]
    },
    {
      "cell_type": "code",
      "metadata": {
        "id": "jbjHGcVzGnBm",
        "colab_type": "code",
        "outputId": "e08d5006-ba01-4fea-be96-541a50172a9e",
        "colab": {
          "base_uri": "https://localhost:8080/",
          "height": 173
        }
      },
      "source": [
        "import ee\n",
        "\n",
        "ee.Authenticate()\n",
        "ee.Initialize()"
      ],
      "execution_count": 0,
      "outputs": [
        {
          "output_type": "stream",
          "text": [
            "To authorize access needed by Earth Engine, open the following URL in a web browser and follow the instructions. If the web browser does not start automatically, please manually browse the URL below.\n",
            "\n",
            "    https://accounts.google.com/o/oauth2/auth?client_id=517222506229-vsmmajv00ul0bs7p89v5m89qs8eb9359.apps.googleusercontent.com&scope=https%3A%2F%2Fwww.googleapis.com%2Fauth%2Fearthengine+https%3A%2F%2Fwww.googleapis.com%2Fauth%2Fdevstorage.full_control&redirect_uri=urn%3Aietf%3Awg%3Aoauth%3A2.0%3Aoob&response_type=code\n",
            "\n",
            "The authorization workflow will generate a code, which you should paste in the box below. \n",
            "Enter verification code: 4/wwF1kfrOgwU0FBgKhyZzL1q5A0RwjyT4ScQ7vnZSfKKpgS1-EOEUZ_s\n",
            "\n",
            "Successfully saved authorization token.\n"
          ],
          "name": "stdout"
        }
      ]
    },
    {
      "cell_type": "markdown",
      "metadata": {
        "id": "hJ89n0q1LR4V",
        "colab_type": "text"
      },
      "source": [
        "## **2.1 Introducción a Image**\n",
        "\n",
        "Es posible a acceder a una imagen si conocemos su identificador en los servidores de Google pero, tambien podemos crear una imagen a partir de constantes, listas o cualquier otro objeto adecuado de Google Earth Engine.\n",
        "\n",
        "Vamos a ver en primer lugar como crear una imagen y manipular sus bandas."
      ]
    },
    {
      "cell_type": "markdown",
      "metadata": {
        "id": "U_lpGdgDIPVa",
        "colab_type": "text"
      },
      "source": [
        "### **2.1.1 Creación de una imagen constante**\n",
        "En este script se ha creado una imagen almacena en la variable `imagen1` la cual contiene un pixel con valor igual a 1. \n",
        "A continuación se imprime en la consola el contenido de dicha variable, mostrándonos el contenido asociada a la variable.\n",
        "\n",
        "Posteriormente se imprime la información asociada a la variable a través de **getInfo()**, monstrando información de los metadatos. En este caso nos esta indicando que la imagen tiene asociadao sistema de referencia WGS84, el cual se corresponde con el código EPGS 4326. Igualmente nos esta indicando cuales son los valores máximos y mínimos en la imagen así como el tipo de dato, dato entero.\n",
        "\n",
        "Cuando accedamos a una imagen de satélite veremos muchas mas informació  asociada a la misma."
      ]
    },
    {
      "cell_type": "code",
      "metadata": {
        "id": "TBGBkEU0MTqR",
        "colab_type": "code",
        "outputId": "9bc452a0-9e43-435d-ef69-f46518001f99",
        "colab": {
          "base_uri": "https://localhost:8080/",
          "height": 221
        }
      },
      "source": [
        "imagen1=ee.Image(1) #Creamos una imagen\n",
        "print (imagen1) \n",
        "imagen1.getInfo() #Mostramos la información de la imagen"
      ],
      "execution_count": 0,
      "outputs": [
        {
          "output_type": "stream",
          "text": [
            "ee.Image({\n",
            "  \"type\": \"Invocation\",\n",
            "  \"arguments\": {\n",
            "    \"value\": 1\n",
            "  },\n",
            "  \"functionName\": \"Image.constant\"\n",
            "})\n"
          ],
          "name": "stdout"
        },
        {
          "output_type": "execute_result",
          "data": {
            "text/plain": [
              "{'bands': [{'crs': 'EPSG:4326',\n",
              "   'crs_transform': [1, 0, 0, 0, 1, 0],\n",
              "   'data_type': {'max': 1, 'min': 1, 'precision': 'int', 'type': 'PixelType'},\n",
              "   'id': 'constant'}],\n",
              " 'type': 'Image'}"
            ]
          },
          "metadata": {
            "tags": []
          },
          "execution_count": 2
        }
      ]
    },
    {
      "cell_type": "markdown",
      "metadata": {
        "id": "QWJulucwc1bW",
        "colab_type": "text"
      },
      "source": [
        "En el siguiente ejemplo se crea una imagen que tiene 3 bandas de un pixel, siendo los valores de cada uno 1,-1 y 120."
      ]
    },
    {
      "cell_type": "code",
      "metadata": {
        "id": "LfKA-dF52Iod",
        "colab_type": "code",
        "colab": {}
      },
      "source": [
        "#Creación de una imagen multibanda a partir de una lista de constantes\n",
        "imagen=ee.Image([1,-1,120])\n",
        "imagen.getInfo()"
      ],
      "execution_count": 0,
      "outputs": []
    },
    {
      "cell_type": "markdown",
      "metadata": {
        "id": "Ru1HldJN05Wq",
        "colab_type": "text"
      },
      "source": [
        "\n",
        "### **2.1.2 Concatenar imágenes**\n",
        "\n",
        "En algunas ocasiones puede ser necesario juntar o concatenar distintas imágenes las cuales darán lugar a una única imagen. \n",
        "\n",
        "Esta operación se realizará mediante **ee.Image.cat(*list*)**, este método concatena un conjunto de imágenes que se pasan a través de una lista en una sola imagen."
      ]
    },
    {
      "cell_type": "code",
      "metadata": {
        "id": "mMW-nlD11R8f",
        "colab_type": "code",
        "outputId": "b37a2c4d-3372-4d35-d8d3-9ec23c13551d",
        "colab": {
          "base_uri": "https://localhost:8080/",
          "height": 340
        }
      },
      "source": [
        "#Concatenación de tres imágenes en una imagen individual de tres bandas\n",
        "imagen1=ee.Image(1)\n",
        "imagen2=ee.Image(120)\n",
        "imagen3=ee.Image(-1)\n",
        "\n",
        "imagen=ee.Image.cat([imagen1,imagen2,imagen3]) #Concatenamos las tres imágenes\n",
        "imagen.getInfo()"
      ],
      "execution_count": 0,
      "outputs": [
        {
          "output_type": "execute_result",
          "data": {
            "text/plain": [
              "{'bands': [{'crs': 'EPSG:4326',\n",
              "   'crs_transform': [1, 0, 0, 0, 1, 0],\n",
              "   'data_type': {'max': 1, 'min': 1, 'precision': 'int', 'type': 'PixelType'},\n",
              "   'id': 'constant'},\n",
              "  {'crs': 'EPSG:4326',\n",
              "   'crs_transform': [1, 0, 0, 0, 1, 0],\n",
              "   'data_type': {'max': 120,\n",
              "    'min': 120,\n",
              "    'precision': 'int',\n",
              "    'type': 'PixelType'},\n",
              "   'id': 'constant_1'},\n",
              "  {'crs': 'EPSG:4326',\n",
              "   'crs_transform': [1, 0, 0, 0, 1, 0],\n",
              "   'data_type': {'max': -1,\n",
              "    'min': -1,\n",
              "    'precision': 'int',\n",
              "    'type': 'PixelType'},\n",
              "   'id': 'constant_2'}],\n",
              " 'type': 'Image'}"
            ]
          },
          "metadata": {
            "tags": []
          },
          "execution_count": 3
        }
      ]
    },
    {
      "cell_type": "markdown",
      "metadata": {
        "id": "w6HVWeDSdi8a",
        "colab_type": "text"
      },
      "source": [
        "Un método muy interesante asociado a una variable de tipo ee.Image es **addBands()**. Este método añade las bandas pasadas como parámetros a las ya existentes en una imagen ya existen."
      ]
    },
    {
      "cell_type": "code",
      "metadata": {
        "id": "tJxbK4cy2e4d",
        "colab_type": "code",
        "outputId": "e30ffc0c-118d-4be8-9957-d12c9763e671",
        "colab": {
          "base_uri": "https://localhost:8080/",
          "height": 459
        }
      },
      "source": [
        "#En este ejemplo se añade una nueva banda a la imagen multibanda creada anteriormente\n",
        "imagen=imagen.addBands(ee.Image(10))\n",
        "imagen.getInfo()"
      ],
      "execution_count": 0,
      "outputs": [
        {
          "output_type": "execute_result",
          "data": {
            "text/plain": [
              "{'bands': [{'crs': 'EPSG:4326',\n",
              "   'crs_transform': [1, 0, 0, 0, 1, 0],\n",
              "   'data_type': {'max': 1, 'min': 1, 'precision': 'int', 'type': 'PixelType'},\n",
              "   'id': 'constant'},\n",
              "  {'crs': 'EPSG:4326',\n",
              "   'crs_transform': [1, 0, 0, 0, 1, 0],\n",
              "   'data_type': {'max': 120,\n",
              "    'min': 120,\n",
              "    'precision': 'int',\n",
              "    'type': 'PixelType'},\n",
              "   'id': 'constant_1'},\n",
              "  {'crs': 'EPSG:4326',\n",
              "   'crs_transform': [1, 0, 0, 0, 1, 0],\n",
              "   'data_type': {'max': -1,\n",
              "    'min': -1,\n",
              "    'precision': 'int',\n",
              "    'type': 'PixelType'},\n",
              "   'id': 'constant_2'},\n",
              "  {'crs': 'EPSG:4326',\n",
              "   'crs_transform': [1, 0, 0, 0, 1, 0],\n",
              "   'data_type': {'max': 10,\n",
              "    'min': 10,\n",
              "    'precision': 'int',\n",
              "    'type': 'PixelType'},\n",
              "   'id': 'constant_3'}],\n",
              " 'type': 'Image'}"
            ]
          },
          "metadata": {
            "tags": []
          },
          "execution_count": 4
        }
      ]
    },
    {
      "cell_type": "markdown",
      "metadata": {
        "id": "U0HcHMfrLp1o",
        "colab_type": "text"
      },
      "source": [
        "## **2. Información de las imágenes: Metadatos**\n",
        "\n",
        "Como ya se ha visto anteriormente, para conocer la información asociada a las imagenes y/o de las bandas espectrales de éstas se emplea el método **getInfo()**. \n",
        "\n",
        "En los metadatos encontraremos información relativa a la fecha de visita del satélite, las bandas espectrales que presenta, el porcentaje de nubes o las coordenadas de la huella proyectada sobre el terreno entre otros datos. Esta informmación la emplearemos por ejemplo para crear *colecciones de imágenes*.\n",
        "\n",
        "En el siguiente ejemplo vamos a obtener información de todos los metadatos de la imagen, grabándola en la varialbe *info*, posteriormente la imprimimos en pantalla.\n"
      ]
    },
    {
      "cell_type": "code",
      "metadata": {
        "id": "Je6aUqgqUw9C",
        "colab_type": "code",
        "outputId": "95ced3d6-ce23-480b-e4a8-feb01e32d9e6",
        "colab": {
          "base_uri": "https://localhost:8080/",
          "height": 54
        }
      },
      "source": [
        "#Cargamos una imagen\n",
        "imagen=ee.Image('COPERNICUS/S2/20170412T110621_20170412T111708_T30SUG')\n",
        "\n",
        "info=imagen.getInfo()\n",
        "\n",
        "print (info)\n"
      ],
      "execution_count": 0,
      "outputs": [
        {
          "output_type": "stream",
          "text": [
            "{'type': 'Image', 'bands': [{'id': 'B1', 'data_type': {'type': 'PixelType', 'precision': 'int', 'min': 0, 'max': 65535}, 'dimensions': [1830, 1830], 'crs': 'EPSG:32630', 'crs_transform': [60, 0, 300000, 0, -60, 4200000]}, {'id': 'B2', 'data_type': {'type': 'PixelType', 'precision': 'int', 'min': 0, 'max': 65535}, 'dimensions': [10980, 10980], 'crs': 'EPSG:32630', 'crs_transform': [10, 0, 300000, 0, -10, 4200000]}, {'id': 'B3', 'data_type': {'type': 'PixelType', 'precision': 'int', 'min': 0, 'max': 65535}, 'dimensions': [10980, 10980], 'crs': 'EPSG:32630', 'crs_transform': [10, 0, 300000, 0, -10, 4200000]}, {'id': 'B4', 'data_type': {'type': 'PixelType', 'precision': 'int', 'min': 0, 'max': 65535}, 'dimensions': [10980, 10980], 'crs': 'EPSG:32630', 'crs_transform': [10, 0, 300000, 0, -10, 4200000]}, {'id': 'B5', 'data_type': {'type': 'PixelType', 'precision': 'int', 'min': 0, 'max': 65535}, 'dimensions': [5490, 5490], 'crs': 'EPSG:32630', 'crs_transform': [20, 0, 300000, 0, -20, 4200000]}, {'id': 'B6', 'data_type': {'type': 'PixelType', 'precision': 'int', 'min': 0, 'max': 65535}, 'dimensions': [5490, 5490], 'crs': 'EPSG:32630', 'crs_transform': [20, 0, 300000, 0, -20, 4200000]}, {'id': 'B7', 'data_type': {'type': 'PixelType', 'precision': 'int', 'min': 0, 'max': 65535}, 'dimensions': [5490, 5490], 'crs': 'EPSG:32630', 'crs_transform': [20, 0, 300000, 0, -20, 4200000]}, {'id': 'B8', 'data_type': {'type': 'PixelType', 'precision': 'int', 'min': 0, 'max': 65535}, 'dimensions': [10980, 10980], 'crs': 'EPSG:32630', 'crs_transform': [10, 0, 300000, 0, -10, 4200000]}, {'id': 'B8A', 'data_type': {'type': 'PixelType', 'precision': 'int', 'min': 0, 'max': 65535}, 'dimensions': [5490, 5490], 'crs': 'EPSG:32630', 'crs_transform': [20, 0, 300000, 0, -20, 4200000]}, {'id': 'B9', 'data_type': {'type': 'PixelType', 'precision': 'int', 'min': 0, 'max': 65535}, 'dimensions': [1830, 1830], 'crs': 'EPSG:32630', 'crs_transform': [60, 0, 300000, 0, -60, 4200000]}, {'id': 'B10', 'data_type': {'type': 'PixelType', 'precision': 'int', 'min': 0, 'max': 65535}, 'dimensions': [1830, 1830], 'crs': 'EPSG:32630', 'crs_transform': [60, 0, 300000, 0, -60, 4200000]}, {'id': 'B11', 'data_type': {'type': 'PixelType', 'precision': 'int', 'min': 0, 'max': 65535}, 'dimensions': [5490, 5490], 'crs': 'EPSG:32630', 'crs_transform': [20, 0, 300000, 0, -20, 4200000]}, {'id': 'B12', 'data_type': {'type': 'PixelType', 'precision': 'int', 'min': 0, 'max': 65535}, 'dimensions': [5490, 5490], 'crs': 'EPSG:32630', 'crs_transform': [20, 0, 300000, 0, -20, 4200000]}, {'id': 'QA10', 'data_type': {'type': 'PixelType', 'precision': 'int', 'min': 0, 'max': 65535}, 'dimensions': [10980, 10980], 'crs': 'EPSG:32630', 'crs_transform': [10, 0, 300000, 0, -10, 4200000]}, {'id': 'QA20', 'data_type': {'type': 'PixelType', 'precision': 'int', 'min': 0, 'max': 4294967295}, 'dimensions': [5490, 5490], 'crs': 'EPSG:32630', 'crs_transform': [20, 0, 300000, 0, -20, 4200000]}, {'id': 'QA60', 'data_type': {'type': 'PixelType', 'precision': 'int', 'min': 0, 'max': 65535}, 'dimensions': [1830, 1830], 'crs': 'EPSG:32630', 'crs_transform': [60, 0, 300000, 0, -60, 4200000]}], 'id': 'COPERNICUS/S2/20170412T110621_20170412T111708_T30SUG', 'version': 1494395893064000.0, 'properties': {'DATATAKE_IDENTIFIER': 'GS2A_20170412T110621_009429_N02.04', 'SPACECRAFT_NAME': 'Sentinel-2A', 'FORMAT_CORRECTNESS_FLAG': 'PASSED', 'IERS_BULLETIN_FILENAME': 'S2__OPER_AUX_UT1UTC_PDMC_20170406T000000_V20170407T000000_20180406T000000', 'MEAN_INCIDENCE_AZIMUTH_ANGLE_B8A': 287.201913998, 'MEAN_SOLAR_AZIMUTH_ANGLE': 151.511661991, 'system:footprint': {'type': 'LinearRing', 'coordinates': [[-5.275531003728325, 37.925671718635975], [-5.275642931787142, 37.925600007181636], [-5.260584434379324, 37.43122299803732], [-5.245889968659827, 36.93681991133494], [-5.245800249632771, 36.936731609676], [-4.56461827737365, 36.94766301825674], [-4.563933272978358, 36.94880922728486], [-4.5635032901587484, 36.94990415033312], [-4.546747876179448, 36.998798676413166], [-4.51725755994735, 37.086790768538705], [-4.458085068437359, 37.2629335042625], [-4.236007353142048, 37.925211097012415], [-4.2321074094962166, 37.936969010251346], [-4.231023039217206, 37.94041686719664], [-4.231035241485421, 37.941149324775814], [-4.2311249595313285, 37.94123836338269], [-5.275531003728325, 37.925671718635975]]}, 'SOLAR_IRRADIANCE_B12': 85.25, 'SOLAR_IRRADIANCE_B10': 367.15, 'SOLAR_IRRADIANCE_B11': 245.59, 'GENERATION_TIME': 1491995828000, 'SOLAR_IRRADIANCE_B8A': 955.19, 'PRODUCT_URI': 'S2A_MSIL1C_20170412T110621_N0204_R137_T30SUG_20170412T111708.SAFE', 'SENSOR_QUALITY_FLAG': 'PASSED', 'CLOUD_COVERAGE_ASSESSMENT': 0, 'system:time_end': 1491995828860, 'system:time_start': 1491995828860, 'DATASTRIP_ID': 'S2A_OPER_MSI_L1C_DS_SGS__20170412T162926_S20170412T111708_N02.04', 'PROCESSING_BASELINE': '02.04', 'SENSING_ORBIT_NUMBER': 137, 'GEOMETRIC_QUALITY_FLAG': 'PASSED', 'SENSING_ORBIT_DIRECTION': 'DESCENDING', 'GRANULE_ID': 'L1C_T30SUG_A009429_20170412T111708', 'REFLECTANCE_CONVERSION_CORRECTION': 0.997452777702, 'MEAN_INCIDENCE_AZIMUTH_ANGLE_B8': 285.856129839, 'DATATAKE_TYPE': 'INS-NOBS', 'MEAN_INCIDENCE_AZIMUTH_ANGLE_B9': 287.59510659, 'MEAN_INCIDENCE_AZIMUTH_ANGLE_B6': 286.807276661, 'MEAN_INCIDENCE_AZIMUTH_ANGLE_B7': 286.998798369, 'RADIOMETRIC_QUALITY_FLAG': 'PASSED', 'MEAN_INCIDENCE_AZIMUTH_ANGLE_B4': 286.394697641, 'MEAN_INCIDENCE_ZENITH_ANGLE_B1': 8.9278908934, 'MEAN_INCIDENCE_AZIMUTH_ANGLE_B5': 286.603823041, 'MEAN_INCIDENCE_AZIMUTH_ANGLE_B2': 285.655684655, 'MEAN_INCIDENCE_AZIMUTH_ANGLE_B3': 286.049758995, 'MEAN_INCIDENCE_ZENITH_ANGLE_B5': 8.82812514911, 'MEAN_INCIDENCE_AZIMUTH_ANGLE_B1': 287.388435374, 'MEAN_INCIDENCE_ZENITH_ANGLE_B4': 8.81106563081, 'MEAN_INCIDENCE_ZENITH_ANGLE_B3': 8.78324778465, 'MEAN_INCIDENCE_ZENITH_ANGLE_B2': 8.75145329936, 'MEAN_INCIDENCE_ZENITH_ANGLE_B9': 8.95998461263, 'MEAN_INCIDENCE_ZENITH_ANGLE_B8': 8.7701660058, 'MEAN_INCIDENCE_ZENITH_ANGLE_B7': 8.87472531941, 'MEAN_INCIDENCE_ZENITH_ANGLE_B6': 8.850294719, 'MEAN_SOLAR_ZENITH_ANGLE': 31.4999581384, 'MEAN_INCIDENCE_ZENITH_ANGLE_B8A': 8.90147703008, 'GRI_FILENAME': 'S2A_OPER_AUX_GRI065_PDMC_20130621T120000_S20130101T000000', 'MGRS_TILE': '30SUG', 'PRODUCTION_DEM_TYPE': 'S2__OPER_DEM_GLOBEF_PDMC_19800101T000000_S19800101T000000', 'CLOUDY_PIXEL_PERCENTAGE': 0, 'GENERAL_QUALITY_FLAG': 'PASSED', 'PRODUCT_ID': 'S2A_MSIL1C_20170412T110621_N0204_R137_T30SUG_20170412T111708', 'ECMWF_DATA_REF': 'S2__OPER_AUX_ECMWFD_PDMC_20170412T000000_V20170412T090000_20170412T210000', 'MEAN_INCIDENCE_ZENITH_ANGLE_B10': 8.80929811253, 'SOLAR_IRRADIANCE_B9': 813.04, 'DEGRADED_MSI_DATA_PERCENTAGE': 0, 'MEAN_INCIDENCE_ZENITH_ANGLE_B11': 8.85740743052, 'MEAN_INCIDENCE_ZENITH_ANGLE_B12': 8.91841612519, 'SOLAR_IRRADIANCE_B6': 1288.32, 'MEAN_INCIDENCE_AZIMUTH_ANGLE_B10': 286.254204866, 'SOLAR_IRRADIANCE_B5': 1425.56, 'MEAN_INCIDENCE_AZIMUTH_ANGLE_B11': 286.7442731, 'SOLAR_IRRADIANCE_B8': 1036.39, 'MEAN_INCIDENCE_AZIMUTH_ANGLE_B12': 287.21560356, 'SOLAR_IRRADIANCE_B7': 1163.19, 'SOLAR_IRRADIANCE_B2': 1941.63, 'SOLAR_IRRADIANCE_B1': 1913.57, 'SOLAR_IRRADIANCE_B4': 1512.79, 'SOLAR_IRRADIANCE_B3': 1822.61, 'system:asset_size': 939928935, 'system:index': '20170412T110621_20170412T111708_T30SUG'}}\n"
          ],
          "name": "stdout"
        }
      ]
    },
    {
      "cell_type": "markdown",
      "metadata": {
        "colab_type": "text",
        "id": "HbDxiAsmfg7H"
      },
      "source": [
        "Si directamente la imprimimos en pantalla, sin almacenarla en una variable, veremos la información de cada elemento de información y su valor."
      ]
    },
    {
      "cell_type": "code",
      "metadata": {
        "id": "mXjlji5sdO8R",
        "colab_type": "code",
        "outputId": "cb3d8558-0e1c-42ad-b14a-e2cbec961969",
        "colab": {
          "base_uri": "https://localhost:8080/",
          "height": 1000
        }
      },
      "source": [
        "imagen.getInfo()"
      ],
      "execution_count": 0,
      "outputs": [
        {
          "output_type": "execute_result",
          "data": {
            "text/plain": [
              "{'bands': [{'crs': 'EPSG:32630',\n",
              "   'crs_transform': [60, 0, 300000, 0, -60, 4200000],\n",
              "   'data_type': {'max': 65535,\n",
              "    'min': 0,\n",
              "    'precision': 'int',\n",
              "    'type': 'PixelType'},\n",
              "   'dimensions': [1830, 1830],\n",
              "   'id': 'B1'},\n",
              "  {'crs': 'EPSG:32630',\n",
              "   'crs_transform': [10, 0, 300000, 0, -10, 4200000],\n",
              "   'data_type': {'max': 65535,\n",
              "    'min': 0,\n",
              "    'precision': 'int',\n",
              "    'type': 'PixelType'},\n",
              "   'dimensions': [10980, 10980],\n",
              "   'id': 'B2'},\n",
              "  {'crs': 'EPSG:32630',\n",
              "   'crs_transform': [10, 0, 300000, 0, -10, 4200000],\n",
              "   'data_type': {'max': 65535,\n",
              "    'min': 0,\n",
              "    'precision': 'int',\n",
              "    'type': 'PixelType'},\n",
              "   'dimensions': [10980, 10980],\n",
              "   'id': 'B3'},\n",
              "  {'crs': 'EPSG:32630',\n",
              "   'crs_transform': [10, 0, 300000, 0, -10, 4200000],\n",
              "   'data_type': {'max': 65535,\n",
              "    'min': 0,\n",
              "    'precision': 'int',\n",
              "    'type': 'PixelType'},\n",
              "   'dimensions': [10980, 10980],\n",
              "   'id': 'B4'},\n",
              "  {'crs': 'EPSG:32630',\n",
              "   'crs_transform': [20, 0, 300000, 0, -20, 4200000],\n",
              "   'data_type': {'max': 65535,\n",
              "    'min': 0,\n",
              "    'precision': 'int',\n",
              "    'type': 'PixelType'},\n",
              "   'dimensions': [5490, 5490],\n",
              "   'id': 'B5'},\n",
              "  {'crs': 'EPSG:32630',\n",
              "   'crs_transform': [20, 0, 300000, 0, -20, 4200000],\n",
              "   'data_type': {'max': 65535,\n",
              "    'min': 0,\n",
              "    'precision': 'int',\n",
              "    'type': 'PixelType'},\n",
              "   'dimensions': [5490, 5490],\n",
              "   'id': 'B6'},\n",
              "  {'crs': 'EPSG:32630',\n",
              "   'crs_transform': [20, 0, 300000, 0, -20, 4200000],\n",
              "   'data_type': {'max': 65535,\n",
              "    'min': 0,\n",
              "    'precision': 'int',\n",
              "    'type': 'PixelType'},\n",
              "   'dimensions': [5490, 5490],\n",
              "   'id': 'B7'},\n",
              "  {'crs': 'EPSG:32630',\n",
              "   'crs_transform': [10, 0, 300000, 0, -10, 4200000],\n",
              "   'data_type': {'max': 65535,\n",
              "    'min': 0,\n",
              "    'precision': 'int',\n",
              "    'type': 'PixelType'},\n",
              "   'dimensions': [10980, 10980],\n",
              "   'id': 'B8'},\n",
              "  {'crs': 'EPSG:32630',\n",
              "   'crs_transform': [20, 0, 300000, 0, -20, 4200000],\n",
              "   'data_type': {'max': 65535,\n",
              "    'min': 0,\n",
              "    'precision': 'int',\n",
              "    'type': 'PixelType'},\n",
              "   'dimensions': [5490, 5490],\n",
              "   'id': 'B8A'},\n",
              "  {'crs': 'EPSG:32630',\n",
              "   'crs_transform': [60, 0, 300000, 0, -60, 4200000],\n",
              "   'data_type': {'max': 65535,\n",
              "    'min': 0,\n",
              "    'precision': 'int',\n",
              "    'type': 'PixelType'},\n",
              "   'dimensions': [1830, 1830],\n",
              "   'id': 'B9'},\n",
              "  {'crs': 'EPSG:32630',\n",
              "   'crs_transform': [60, 0, 300000, 0, -60, 4200000],\n",
              "   'data_type': {'max': 65535,\n",
              "    'min': 0,\n",
              "    'precision': 'int',\n",
              "    'type': 'PixelType'},\n",
              "   'dimensions': [1830, 1830],\n",
              "   'id': 'B10'},\n",
              "  {'crs': 'EPSG:32630',\n",
              "   'crs_transform': [20, 0, 300000, 0, -20, 4200000],\n",
              "   'data_type': {'max': 65535,\n",
              "    'min': 0,\n",
              "    'precision': 'int',\n",
              "    'type': 'PixelType'},\n",
              "   'dimensions': [5490, 5490],\n",
              "   'id': 'B11'},\n",
              "  {'crs': 'EPSG:32630',\n",
              "   'crs_transform': [20, 0, 300000, 0, -20, 4200000],\n",
              "   'data_type': {'max': 65535,\n",
              "    'min': 0,\n",
              "    'precision': 'int',\n",
              "    'type': 'PixelType'},\n",
              "   'dimensions': [5490, 5490],\n",
              "   'id': 'B12'},\n",
              "  {'crs': 'EPSG:32630',\n",
              "   'crs_transform': [10, 0, 300000, 0, -10, 4200000],\n",
              "   'data_type': {'max': 65535,\n",
              "    'min': 0,\n",
              "    'precision': 'int',\n",
              "    'type': 'PixelType'},\n",
              "   'dimensions': [10980, 10980],\n",
              "   'id': 'QA10'},\n",
              "  {'crs': 'EPSG:32630',\n",
              "   'crs_transform': [20, 0, 300000, 0, -20, 4200000],\n",
              "   'data_type': {'max': 4294967295,\n",
              "    'min': 0,\n",
              "    'precision': 'int',\n",
              "    'type': 'PixelType'},\n",
              "   'dimensions': [5490, 5490],\n",
              "   'id': 'QA20'},\n",
              "  {'crs': 'EPSG:32630',\n",
              "   'crs_transform': [60, 0, 300000, 0, -60, 4200000],\n",
              "   'data_type': {'max': 65535,\n",
              "    'min': 0,\n",
              "    'precision': 'int',\n",
              "    'type': 'PixelType'},\n",
              "   'dimensions': [1830, 1830],\n",
              "   'id': 'QA60'}],\n",
              " 'id': 'COPERNICUS/S2/20170412T110621_20170412T111708_T30SUG',\n",
              " 'properties': {'CLOUDY_PIXEL_PERCENTAGE': 0,\n",
              "  'CLOUD_COVERAGE_ASSESSMENT': 0,\n",
              "  'DATASTRIP_ID': 'S2A_OPER_MSI_L1C_DS_SGS__20170412T162926_S20170412T111708_N02.04',\n",
              "  'DATATAKE_IDENTIFIER': 'GS2A_20170412T110621_009429_N02.04',\n",
              "  'DATATAKE_TYPE': 'INS-NOBS',\n",
              "  'DEGRADED_MSI_DATA_PERCENTAGE': 0,\n",
              "  'ECMWF_DATA_REF': 'S2__OPER_AUX_ECMWFD_PDMC_20170412T000000_V20170412T090000_20170412T210000',\n",
              "  'FORMAT_CORRECTNESS_FLAG': 'PASSED',\n",
              "  'GENERAL_QUALITY_FLAG': 'PASSED',\n",
              "  'GENERATION_TIME': 1491995828000,\n",
              "  'GEOMETRIC_QUALITY_FLAG': 'PASSED',\n",
              "  'GRANULE_ID': 'L1C_T30SUG_A009429_20170412T111708',\n",
              "  'GRI_FILENAME': 'S2A_OPER_AUX_GRI065_PDMC_20130621T120000_S20130101T000000',\n",
              "  'IERS_BULLETIN_FILENAME': 'S2__OPER_AUX_UT1UTC_PDMC_20170406T000000_V20170407T000000_20180406T000000',\n",
              "  'MEAN_INCIDENCE_AZIMUTH_ANGLE_B1': 287.388435374,\n",
              "  'MEAN_INCIDENCE_AZIMUTH_ANGLE_B10': 286.254204866,\n",
              "  'MEAN_INCIDENCE_AZIMUTH_ANGLE_B11': 286.7442731,\n",
              "  'MEAN_INCIDENCE_AZIMUTH_ANGLE_B12': 287.21560356,\n",
              "  'MEAN_INCIDENCE_AZIMUTH_ANGLE_B2': 285.655684655,\n",
              "  'MEAN_INCIDENCE_AZIMUTH_ANGLE_B3': 286.049758995,\n",
              "  'MEAN_INCIDENCE_AZIMUTH_ANGLE_B4': 286.394697641,\n",
              "  'MEAN_INCIDENCE_AZIMUTH_ANGLE_B5': 286.603823041,\n",
              "  'MEAN_INCIDENCE_AZIMUTH_ANGLE_B6': 286.807276661,\n",
              "  'MEAN_INCIDENCE_AZIMUTH_ANGLE_B7': 286.998798369,\n",
              "  'MEAN_INCIDENCE_AZIMUTH_ANGLE_B8': 285.856129839,\n",
              "  'MEAN_INCIDENCE_AZIMUTH_ANGLE_B8A': 287.201913998,\n",
              "  'MEAN_INCIDENCE_AZIMUTH_ANGLE_B9': 287.59510659,\n",
              "  'MEAN_INCIDENCE_ZENITH_ANGLE_B1': 8.9278908934,\n",
              "  'MEAN_INCIDENCE_ZENITH_ANGLE_B10': 8.80929811253,\n",
              "  'MEAN_INCIDENCE_ZENITH_ANGLE_B11': 8.85740743052,\n",
              "  'MEAN_INCIDENCE_ZENITH_ANGLE_B12': 8.91841612519,\n",
              "  'MEAN_INCIDENCE_ZENITH_ANGLE_B2': 8.75145329936,\n",
              "  'MEAN_INCIDENCE_ZENITH_ANGLE_B3': 8.78324778465,\n",
              "  'MEAN_INCIDENCE_ZENITH_ANGLE_B4': 8.81106563081,\n",
              "  'MEAN_INCIDENCE_ZENITH_ANGLE_B5': 8.82812514911,\n",
              "  'MEAN_INCIDENCE_ZENITH_ANGLE_B6': 8.850294719,\n",
              "  'MEAN_INCIDENCE_ZENITH_ANGLE_B7': 8.87472531941,\n",
              "  'MEAN_INCIDENCE_ZENITH_ANGLE_B8': 8.7701660058,\n",
              "  'MEAN_INCIDENCE_ZENITH_ANGLE_B8A': 8.90147703008,\n",
              "  'MEAN_INCIDENCE_ZENITH_ANGLE_B9': 8.95998461263,\n",
              "  'MEAN_SOLAR_AZIMUTH_ANGLE': 151.511661991,\n",
              "  'MEAN_SOLAR_ZENITH_ANGLE': 31.4999581384,\n",
              "  'MGRS_TILE': '30SUG',\n",
              "  'PROCESSING_BASELINE': '02.04',\n",
              "  'PRODUCTION_DEM_TYPE': 'S2__OPER_DEM_GLOBEF_PDMC_19800101T000000_S19800101T000000',\n",
              "  'PRODUCT_ID': 'S2A_MSIL1C_20170412T110621_N0204_R137_T30SUG_20170412T111708',\n",
              "  'PRODUCT_URI': 'S2A_MSIL1C_20170412T110621_N0204_R137_T30SUG_20170412T111708.SAFE',\n",
              "  'RADIOMETRIC_QUALITY_FLAG': 'PASSED',\n",
              "  'REFLECTANCE_CONVERSION_CORRECTION': 0.997452777702,\n",
              "  'SENSING_ORBIT_DIRECTION': 'DESCENDING',\n",
              "  'SENSING_ORBIT_NUMBER': 137,\n",
              "  'SENSOR_QUALITY_FLAG': 'PASSED',\n",
              "  'SOLAR_IRRADIANCE_B1': 1913.57,\n",
              "  'SOLAR_IRRADIANCE_B10': 367.15,\n",
              "  'SOLAR_IRRADIANCE_B11': 245.59,\n",
              "  'SOLAR_IRRADIANCE_B12': 85.25,\n",
              "  'SOLAR_IRRADIANCE_B2': 1941.63,\n",
              "  'SOLAR_IRRADIANCE_B3': 1822.61,\n",
              "  'SOLAR_IRRADIANCE_B4': 1512.79,\n",
              "  'SOLAR_IRRADIANCE_B5': 1425.56,\n",
              "  'SOLAR_IRRADIANCE_B6': 1288.32,\n",
              "  'SOLAR_IRRADIANCE_B7': 1163.19,\n",
              "  'SOLAR_IRRADIANCE_B8': 1036.39,\n",
              "  'SOLAR_IRRADIANCE_B8A': 955.19,\n",
              "  'SOLAR_IRRADIANCE_B9': 813.04,\n",
              "  'SPACECRAFT_NAME': 'Sentinel-2A',\n",
              "  'system:asset_size': 939928935,\n",
              "  'system:footprint': {'coordinates': [[-5.275531003728325,\n",
              "     37.925671718635975],\n",
              "    [-5.275642931787142, 37.925600007181636],\n",
              "    [-5.260584434379324, 37.43122299803732],\n",
              "    [-5.245889968659827, 36.93681991133494],\n",
              "    [-5.245800249632771, 36.936731609676],\n",
              "    [-4.56461827737365, 36.94766301825674],\n",
              "    [-4.563933272978358, 36.94880922728486],\n",
              "    [-4.5635032901587484, 36.94990415033312],\n",
              "    [-4.546747876179448, 36.998798676413166],\n",
              "    [-4.51725755994735, 37.086790768538705],\n",
              "    [-4.458085068437359, 37.2629335042625],\n",
              "    [-4.236007353142048, 37.925211097012415],\n",
              "    [-4.2321074094962166, 37.936969010251346],\n",
              "    [-4.231023039217206, 37.94041686719664],\n",
              "    [-4.231035241485421, 37.941149324775814],\n",
              "    [-4.2311249595313285, 37.94123836338269],\n",
              "    [-5.275531003728325, 37.925671718635975]],\n",
              "   'type': 'LinearRing'},\n",
              "  'system:index': '20170412T110621_20170412T111708_T30SUG',\n",
              "  'system:time_end': 1491995828860,\n",
              "  'system:time_start': 1491995828860},\n",
              " 'type': 'Image',\n",
              " 'version': 1494395893064000.0}"
            ]
          },
          "metadata": {
            "tags": []
          },
          "execution_count": 6
        }
      ]
    },
    {
      "cell_type": "markdown",
      "metadata": {
        "id": "nRUVYeqbdd6g",
        "colab_type": "text"
      },
      "source": [
        "GEE ofrece numerosos dataset asociados con imágenes, bien sea directamente imágenes de satélite, datos de clima, modelos digitales de elevaciones, etc. Para mas información de todos los dataset que ofrece GEE consultar este [link](https://developers.google.com/earth-engine/datasets/).\n",
        "\n",
        "En lo que respecta escenas de satélite el uusario puede encontrar toda la colección de imágenes de los programas de observación de la Tierra [Copernicus](https://developers.google.com/earth-engine/datasets/catalog/sentinel), [Landsat](https://developers.google.com/earth-engine/datasets/catalog/landsat) o [Modis](https://developers.google.com/earth-engine/datasets/catalog/modis).Dentro de cada unos de estos programas el usario puede acceder a  distintos productos como imágenes corregidas atmosféricamente, datos brutos, imágenes sintéticas, etc...De este modo dentro para cada progrmama de observación de la Tierra y tipo de producto aparece un dataset el cual tiene asociado un identificador que aparece en ek apartado **Earth Engine Snippet**. Por ejemplo, en el caso de las imágenes de Sentinel 5 con información de dióxido de nitrogeno se puede ver como éstas estan disponibles desde el 2018-06-28, que el proveedor de los datos es la ESA y que los datos se encuentran en `COPERNICUS/S5P/OFFL/L3_N02`.\n",
        "\n",
        "\n",
        "![texto alternativo](https://www.gisandbeers.com/wp-content/uploads/2019/04/Colecciones-de-imágenes-en-Google-Earth-Engine.jpg)\n",
        "\n",
        "Por tanto, deberemos navegar por los datasetes de GEE, encontrar el que sea de nuestro interes y emplear su identificador. En segunto lugar deberemos de saber el nombre la imagen que queremos emplear. En el siguiente cuaderno veremos como poder localizar las imágenes que nos interesen para abordar un trabajo en concreto, por el momento daremos por hechom que conocemos tal nombre de la escena a emplear.\n",
        "\n",
        "Por ejemplo, en el código anterior se accede a una imagen Sentinel 2 con valores de reflectancia a nivel de atmósfera como se puede verificar en la web de [dataset](https://developers.google.com/earth-engine/datasets/catalog/COPERNICUS_S2):\n",
        "\n",
        "`imagen=ee.Image('COPERNICUS/S2/20170412T110621_20170412T111708_T30SUG')`\n",
        "\n",
        "Además para cada dataset aparece una descripción de las bandas y otros propiedadades de las escenas.\n",
        "\n",
        "Se presentan ahora distintos ejemplos solicitando información de algunos elementos de metadatos concretos para los que GEE tiene implementado métodos concretos.\n",
        "\n",
        "*   **bandNames()**: Devuelve una lista con el nombre de las imágenes.\n",
        "*   **projection()**: Informa del Sistema de Referencia de Coordenadas de la imagen.\n",
        "*   **projection().nominalScale()**: Obtiene el valor del tamaño del pixel de la banda.\n",
        "*   **propertyNames()**: Lista el nombre de los elementos de los metadatos de la imagen.\n",
        "*   **get()**: Extrae un elemento concreto de los metadatos\n"
      ]
    },
    {
      "cell_type": "code",
      "metadata": {
        "id": "WAyUfVISdvDd",
        "colab_type": "code",
        "outputId": "4de8778d-2538-4096-806c-36bcf96c9b5f",
        "colab": {
          "base_uri": "https://localhost:8080/",
          "height": 309
        }
      },
      "source": [
        "imagen=ee.Image('COPERNICUS/S2/20170412T110621_20170412T111708_T30SUG')\n",
        "\n",
        "nombre_bandas=imagen.bandNames() #Se obtiene una lista con el nombre de las bandas de una imagen.\n",
        "\n",
        "banda4= imagen.select('B4') #Creamos una varia de tipo imagen que es igual a la banda 4 de la variable imagen\n",
        "banda10=imagen.select('B10') #Igual pero seleccionando la banda 10 de la variable imagen\n",
        "SRC = banda4.projection() #Imprime en pantalla el sistema de referencia de coordenadas asociado a la imagen\n",
        "\n",
        "pixel_size4= banda4.projection().nominalScale() #Almacena el tamaño de pixel de la banda 4\n",
        "pixel_size10= banda10.projection().nominalScale() #Almacena el tamaño de pixel de la banda 10\n",
        "\n",
        "metadatos_nombres= imagen.propertyNames() #Obtenemos la lista de los nombres de los metadatos\n",
        "\n",
        "nubes=imagen.get('CLOUDY_PIXEL_PERCENTAGE') #Obtenemos el porcentaje de nubes en la imagen\n",
        "huella=imagen.get('system:footprint') #Información de la huella de la imagen sobre el terreno\n",
        "\n",
        "\n",
        "print (\"El nombre de las bandas es:\")\n",
        "print (nombre_bandas.getInfo(),\"\\n\")\n",
        "print (\"El SRC de la banda 4 es:\")\n",
        "print (SRC.getInfo(),\"\\n\")\n",
        "\n",
        "print (\"Tamaño pixel banda 4: \", pixel_size4.getInfo(),\"\\n\")\n",
        "print (\"Tamaño pixel banda 10: \", pixel_size10.getInfo(),\"\\n\")\n",
        "\n",
        "print (\"Nombre de los metadatos:\",\"\\n\")\n",
        "print (metadatos_nombres.getInfo(),\"\\n\")\n",
        "\n",
        "print (\"Porcentaje de nubes: \", nubes.getInfo())\n",
        "print (\"Huella de la escena: \",huella.getInfo())"
      ],
      "execution_count": 0,
      "outputs": [
        {
          "output_type": "stream",
          "text": [
            "El nombre de las bandas es:\n",
            "['B1', 'B2', 'B3', 'B4', 'B5', 'B6', 'B7', 'B8', 'B8A', 'B9', 'B10', 'B11', 'B12', 'QA10', 'QA20', 'QA60'] \n",
            "\n",
            "El SRC de la banda 4 es:\n",
            "{'type': 'Projection', 'crs': 'EPSG:32630', 'transform': [10, 0, 300000, 0, -10, 4200000]} \n",
            "\n",
            "Tamaño pixel banda 4:  10 \n",
            "\n",
            "Tamaño pixel banda 10:  60 \n",
            "\n",
            "Nombre de los metadatos: \n",
            "\n",
            "['DATATAKE_IDENTIFIER', 'SPACECRAFT_NAME', 'FORMAT_CORRECTNESS_FLAG', 'IERS_BULLETIN_FILENAME', 'system:id', 'MEAN_INCIDENCE_AZIMUTH_ANGLE_B8A', 'MEAN_SOLAR_AZIMUTH_ANGLE', 'system:footprint', 'SOLAR_IRRADIANCE_B12', 'system:version', 'SOLAR_IRRADIANCE_B10', 'SOLAR_IRRADIANCE_B11', 'GENERATION_TIME', 'SOLAR_IRRADIANCE_B8A', 'PRODUCT_URI', 'SENSOR_QUALITY_FLAG', 'CLOUD_COVERAGE_ASSESSMENT', 'system:time_end', 'system:time_start', 'DATASTRIP_ID', 'PROCESSING_BASELINE', 'SENSING_ORBIT_NUMBER', 'GEOMETRIC_QUALITY_FLAG', 'SENSING_ORBIT_DIRECTION', 'GRANULE_ID', 'REFLECTANCE_CONVERSION_CORRECTION', 'MEAN_INCIDENCE_AZIMUTH_ANGLE_B8', 'DATATAKE_TYPE', 'MEAN_INCIDENCE_AZIMUTH_ANGLE_B9', 'MEAN_INCIDENCE_AZIMUTH_ANGLE_B6', 'MEAN_INCIDENCE_AZIMUTH_ANGLE_B7', 'RADIOMETRIC_QUALITY_FLAG', 'MEAN_INCIDENCE_AZIMUTH_ANGLE_B4', 'MEAN_INCIDENCE_ZENITH_ANGLE_B1', 'MEAN_INCIDENCE_AZIMUTH_ANGLE_B5', 'MEAN_INCIDENCE_AZIMUTH_ANGLE_B2', 'MEAN_INCIDENCE_AZIMUTH_ANGLE_B3', 'MEAN_INCIDENCE_ZENITH_ANGLE_B5', 'MEAN_INCIDENCE_AZIMUTH_ANGLE_B1', 'MEAN_INCIDENCE_ZENITH_ANGLE_B4', 'MEAN_INCIDENCE_ZENITH_ANGLE_B3', 'MEAN_INCIDENCE_ZENITH_ANGLE_B2', 'MEAN_INCIDENCE_ZENITH_ANGLE_B9', 'MEAN_INCIDENCE_ZENITH_ANGLE_B8', 'MEAN_INCIDENCE_ZENITH_ANGLE_B7', 'MEAN_INCIDENCE_ZENITH_ANGLE_B6', 'MEAN_SOLAR_ZENITH_ANGLE', 'MEAN_INCIDENCE_ZENITH_ANGLE_B8A', 'GRI_FILENAME', 'MGRS_TILE', 'PRODUCTION_DEM_TYPE', 'CLOUDY_PIXEL_PERCENTAGE', 'GENERAL_QUALITY_FLAG', 'PRODUCT_ID', 'ECMWF_DATA_REF', 'MEAN_INCIDENCE_ZENITH_ANGLE_B10', 'SOLAR_IRRADIANCE_B9', 'DEGRADED_MSI_DATA_PERCENTAGE', 'MEAN_INCIDENCE_ZENITH_ANGLE_B11', 'MEAN_INCIDENCE_ZENITH_ANGLE_B12', 'SOLAR_IRRADIANCE_B6', 'MEAN_INCIDENCE_AZIMUTH_ANGLE_B10', 'SOLAR_IRRADIANCE_B5', 'MEAN_INCIDENCE_AZIMUTH_ANGLE_B11', 'SOLAR_IRRADIANCE_B8', 'MEAN_INCIDENCE_AZIMUTH_ANGLE_B12', 'SOLAR_IRRADIANCE_B7', 'SOLAR_IRRADIANCE_B2', 'SOLAR_IRRADIANCE_B1', 'SOLAR_IRRADIANCE_B4', 'SOLAR_IRRADIANCE_B3', 'system:asset_size', 'system:index', 'system:bands', 'system:band_names'] \n",
            "\n",
            "Porcentaje de nubes:  0\n",
            "Huella de la escena:  {'type': 'LinearRing', 'coordinates': [[-5.275531003728325, 37.925671718635975], [-5.275642931787142, 37.925600007181636], [-5.260584434379324, 37.43122299803732], [-5.245889968659827, 36.93681991133494], [-5.245800249632771, 36.936731609676], [-4.56461827737365, 36.94766301825674], [-4.563933272978358, 36.94880922728486], [-4.5635032901587484, 36.94990415033312], [-4.546747876179448, 36.998798676413166], [-4.51725755994735, 37.086790768538705], [-4.458085068437359, 37.2629335042625], [-4.236007353142048, 37.925211097012415], [-4.2321074094962166, 37.936969010251346], [-4.231023039217206, 37.94041686719664], [-4.231035241485421, 37.941149324775814], [-4.2311249595313285, 37.94123836338269], [-5.275531003728325, 37.925671718635975]]}\n"
          ],
          "name": "stdout"
        }
      ]
    },
    {
      "cell_type": "markdown",
      "metadata": {
        "id": "dXe8wszEhJY2",
        "colab_type": "text"
      },
      "source": [
        "En el siguiente ejemplo se presenta el código de una función en Python denominada **centro** que calcula las coordenadas del centro de la escena a partir de la información almacenada en el nodo de metadatos `*system:footprint*` de una escena Sentinel.\n",
        "\n",
        "La función `centro*` tendrá como entrada una variable de tipo image que se ha denominada imagen.\n",
        "\n",
        "Para obtener las coordenadas de las vértices que describen la huella de la escena se consultará el elemento **system:footprint**. Éste elemento contiene un subelemento denominado **coordinates** donde aparecen las coordenada de cada vértice. \n",
        "\n",
        "Lo que hace la función es calcular el sumatorio de los valores de latitud y longitud recorriendo la lista mediante un bucle *for*. Una vez que termina este proceso se divide por el número de elementos, obteniendo la media de la longitud y la latitud, siendo devueltos estos valores por la función.\n",
        "\n",
        "Esta función nos va a resultar muy útil posteriormente cuando queramos representar en pantalla la imagen, permitiendo centrar la vista en pantalla.\n"
      ]
    },
    {
      "cell_type": "code",
      "metadata": {
        "id": "FlHnTWiHsrND",
        "colab_type": "code",
        "outputId": "e6371ca2-afe7-4956-a2d8-969cad23dc3b",
        "colab": {
          "base_uri": "https://localhost:8080/",
          "height": 51
        }
      },
      "source": [
        "def centro(imagen):\n",
        "  #Función para calcular las coordenadas del centro de una imagen\n",
        "  coordenadas=imagen.get('system:footprint').getInfo()['coordinates']\n",
        "  longitud=0\n",
        "  latitud=0\n",
        "  for i in range(len(coordenadas)):\n",
        "    longitud= longitud+ coordenadas[i-1][0]\n",
        "    latitud=latitud+coordenadas[i-1][1]\n",
        "  \n",
        "  longitud=longitud/(len(coordenadas))\n",
        "  latitud=latitud/(len(coordenadas))\n",
        "  return (longitud,latitud)\n",
        "\n",
        "coordenadas_centrales=centro(imagen) #Llamada a la función centro\n",
        "\n",
        "print ('longitud central: ',coordenadas_centrales[0])\n",
        "print ('latitud central: ',coordenadas_centrales[1])\n"
      ],
      "execution_count": 0,
      "outputs": [
        {
          "output_type": "stream",
          "text": [
            "longitud central:  -4.703201349403696\n",
            "latitud central:  37.468329527718225\n"
          ],
          "name": "stdout"
        }
      ]
    },
    {
      "cell_type": "markdown",
      "metadata": {
        "id": "RzgY9mRc3A3G",
        "colab_type": "text"
      },
      "source": [
        "## **3. Visualización de imagenes**\n",
        "\n",
        "La API de Python no soporta la visualización interactiva de imágenes como lo hace el Code Editor de Google Earth Engine desarrollando en JavaScript.\n",
        "\n",
        "Para la visualización de imágenes ya vismo anteriormente que es posible hacer presentaciones estáticas o bien dinámicas a través del uso de visor web. Para ello se empleará **ee.Image.getThumbURL**.\n",
        "\n",
        "Al igual que en el caso de emplear Code Editor se tiene acceso para controlar los siguientes parámetros:\n",
        "\n",
        "<h2 style=\"color: #2e6c80;\">&nbsp;</h2>\n",
        "<table>\n",
        "<tbody>\n",
        "<tr>\n",
        "<td style=\"text-align: center;\"><strong>Par&aacute;metro</strong></td>\n",
        "<td style=\"text-align: center;\"><strong>Descripci&oacute;n</strong></td>\n",
        "<td style=\"text-align: center;\"><strong>Tipo</strong></td>\n",
        "</tr>\n",
        "<tr>\n",
        "<td>&nbsp;bands</td>\n",
        "<td>&nbsp;lista delimitada por comas de las bandas a representar en RGB</td>\n",
        "<td>list&nbsp;</td>\n",
        "</tr>\n",
        "<tr>\n",
        "<td>min&nbsp;</td>\n",
        "<td>Valor(es) a representar como 0 o lista de tres n&uacute;meros, uno por cada banda.</td>\n",
        "<td>&nbsp;n&uacute;mero o lista de tres n&uacute;meros</td>\n",
        "</tr>\n",
        "<tr>\n",
        "<td>max&nbsp;</td>\n",
        "<td>Valor(es) a representar como 255 o lista de tres n&uacute;meros, uno por cada banda.&nbsp;</td>\n",
        "<td>n&uacute;mero o lista de tres n&uacute;meros&nbsp;</td>\n",
        "</tr>\n",
        "<tr>\n",
        "<td>gain</td>\n",
        "<td>Valor(es) con los que multiplicar cada valor de pixel a representar</td>\n",
        "<td>n&uacute;mero o lista de tres n&uacute;meros&nbsp;</td>\n",
        "</tr>\n",
        "<tr>\n",
        "<td>bias</td>\n",
        "<td>Valor(es) que a&ntilde;adir a cada valor de pixel a representar</td>\n",
        "<td>n&uacute;mero o lista de tres n&uacute;meros&nbsp;</td>\n",
        "</tr>\n",
        "<tr>\n",
        "<td>gamma</td>\n",
        "<td>Factor(es) de correcci&oacute;n gamma</td>\n",
        "<td>n&uacute;mero o lista de tres n&uacute;meros&nbsp;</td>\n",
        "</tr>\n",
        "<tr>\n",
        "<td>palette</td>\n",
        "<td>Lista de estilos CSS con las cadenas de texto de color (solo para im&aacute;genes de una banda)</td>\n",
        "<td>Lista separada por comas de cadenas hexadecimales</td>\n",
        "</tr>\n",
        "<tr>\n",
        "<td>opacity</td>\n",
        "<td>La opacidad de la capa (0.0 is completamente transparente y 1.0 completamente opaco)</td>\n",
        "<td>N&uacute;mero</td>\n",
        "</tr>\n",
        "<tr>\n",
        "<td>format</td>\n",
        "<td>JPG o PNG</td>\n",
        "<td>cadena</td>\n",
        "</tr>\n",
        "</tbody>\n",
        "</table>\n",
        "<p><strong>&nbsp;</strong></p>"
      ]
    },
    {
      "cell_type": "markdown",
      "metadata": {
        "id": "rDTHmI9F2OhB",
        "colab_type": "text"
      },
      "source": [
        "La visualización dinámica de imágenes se realizará a través del paquete **folium**.\n",
        "En el siguiente código se facilita una función para incorporar capas de GEE en un mapa hecho en folium. Los parámetros a pasar a tal función serán: el objeto imagen, los parámetros de visualización y el nombre de la capa que queremos que aparezca en el control de capas.\n",
        "\n"
      ]
    },
    {
      "cell_type": "code",
      "metadata": {
        "id": "iJHHvHfj8Jxv",
        "colab_type": "code",
        "colab": {}
      },
      "source": [
        "# Import libreria Folium\n",
        "import folium\n",
        "\n",
        "# Definicón de una función para representar imágenes Earth Engine en un folium map.\n",
        "# \n",
        "def add_ee_layer(self, ee_image_object, vis_params, name):\n",
        "  map_id_dict = ee.Image(ee_image_object).getMapId(vis_params)\n",
        "  folium.raster_layers.TileLayer(\n",
        "    tiles = map_id_dict['tile_fetcher'].url_format,\n",
        "    attr = 'Map Data &copy; <a href=\"https://earthengine.google.com/\">Google Earth Engine</a>',\n",
        "    name = name,\n",
        "    overlay = True,\n",
        "    control = True\n",
        "  ).add_to(self)\n",
        "\n",
        "# Añade un método de dibujo en folium.\n",
        "folium.Map.add_ee_layer = add_ee_layer"
      ],
      "execution_count": 0,
      "outputs": []
    },
    {
      "cell_type": "markdown",
      "metadata": {
        "id": "DRy6Osg-Byq5",
        "colab_type": "text"
      },
      "source": [
        "Una vez desarrollada la función para representar una imagen, en el siguiente ejemplo se va a representar una imagen Sentinel 2 de la cual se conoce su identificador.\n",
        "\n",
        "En este ejemplo se empleará la función add_ee_layer para pintar la imagen en pantalla. \n",
        "Además como la escena de satélite puede estar en cualquier localización, deberemos centrar la vista del mapa, para ello emplearemos la función creada anteriormente para determinar las coordenadas centrales de la imagen.\n",
        "Se han definido dos parámetros de visualización diferentes:\n",
        "* vis_params_falso_color: empleado para representar la imagen Sentinel 2 con las bandas 8,3 y 4 correspondientes a las bandas Nir, Green and Red.\n",
        "* vis_params_RGB: empleado para represental la imagen Sentinel 2 en color verdadero.\n"
      ]
    },
    {
      "cell_type": "code",
      "metadata": {
        "id": "4pofBI7q7N-8",
        "colab_type": "code",
        "outputId": "0aa11ef6-6c83-4bfd-e871-c3e1454022b8",
        "colab": {
          "base_uri": "https://localhost:8080/",
          "height": 531
        }
      },
      "source": [
        "#Carga una imagen Sentinel 2\n",
        "imagen=ee.Image('COPERNICUS/S2/20170412T110621_20170412T111708_T30SUG')\n",
        "\n",
        "#Determinamox como se desea representar la imagen en pantalla, indicando las bandas a emplear, rango, etc.\n",
        "#En este caso queremos representar las bandas B8, B3 y B4, empleando como rango dinámico 0 - 3500.\n",
        "vis_params_falso_color = {\n",
        "  'min': 0,\n",
        "  'max': 3500,\n",
        "  'bands': ['B8', 'B3', 'B4']\n",
        "}\n",
        "#Parámetros de representación en color verdadero\n",
        "vis_params_RGB = {\n",
        "  'min': 0,\n",
        "  'max': 3500,\n",
        "  'bands': ['B4', 'B2', 'B2']\n",
        "}\n",
        "\n",
        "#Llamada a la función centro para obtener las coordenada centrales de la escena\n",
        "coordenadas_centrales=centro(imagen)\n",
        "\n",
        "longitud=coordenadas_centrales[0]\n",
        "latitud=coordenadas_centrales[1]\n",
        "                 \n",
        "# Creacion de un objeto de tipo folium map\n",
        "# zoom_start indica el nivel de zoom en pantalla\n",
        "# height indica la altura del visor que vamoa a crear en pantalla\n",
        "mi_mapa = folium.Map(location=[latitud,longitud], zoom_start=12, height=1000)\n",
        "\n",
        "# Añade la imagen al objeto mapa.\n",
        "mi_mapa.add_ee_layer(imagen,vis_params_falso_color, 'Sentinel falso color') #Añade la imagen Sentinel considerando la representación en falso color\n",
        "mi_mapa.add_ee_layer(imagen,vis_params_RGB, 'Sentinel RGB') #Añade la imagen Sentinel en modo RGB\n",
        "\n",
        "# Añade un panel de control de capas en el mapa (se corresponde con el icono superior de la derecha del visor)\n",
        "mi_mapa.add_child(folium.LayerControl())\n",
        "\n",
        "# Muestra el mapa.\n",
        "display(mi_mapa)"
      ],
      "execution_count": 0,
      "outputs": [
        {
          "output_type": "display_data",
          "data": {
            "text/html": [
              "<div style=\"width:100%;\"><div style=\"position:relative;width:100%;height:0;padding-bottom:60%;\"><iframe src=\"data:text/html;charset=utf-8;base64,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\" style=\"position:absolute;width:100%;height:100%;left:0;top:0;border:none !important;\" allowfullscreen webkitallowfullscreen mozallowfullscreen></iframe></div></div>"
            ],
            "text/plain": [
              "<folium.folium.Map at 0x7f544980c8d0>"
            ]
          },
          "metadata": {
            "tags": []
          }
        }
      ]
    },
    {
      "cell_type": "markdown",
      "metadata": {
        "id": "hagLF7lHIKhD",
        "colab_type": "text"
      },
      "source": [
        "## **4. Expresiones matemáticas**\n",
        "\n",
        "Google Earth Engine opera con las imágenes a nivel de pixel. Cuando un operador se aplica a una imagen, este se aplicará a todos los pixeles de la banda de una imagen. Pero, en el caso de que una imagen este enmascarada, solo se aplicará a los píxeles dentro de la máscara.\n",
        "\n",
        "Si se trabaja en la expresión con varias imágenes, la operación solo se aplicará en aquellos pixeles que estan dentro de la máscara en las dos imágenes.\n",
        "Además, cuando el operador se aplique a varias imágenes, éstas deben tener el mismo número de bandas.\n",
        "\n",
        "En este primer ejemplo vamos a ver como crear una imagen que contenga el resultado de calcular el índice de vegetación NDVI de una escena Sentinel 2.\n",
        "La descripción de las bandas espectrales se pueden pulsando [aqui](https://developers.google.com/earth-engine/datasets/catalog/COPERNICUS_S2_SR).\n",
        "\n",
        "En el caso de escenas Sentinel 2 el NDVI lo calcularemos como: $NDVI=\\frac{NIR-Red}{NIR+Red}=\\frac{B4-B8}{B4+B8}$\n",
        "\n",
        "En el código se puede comprobar como se van encadenando distintos métodos:\n",
        "*   *select*: selecciona la banda 8.\n",
        "*   *substract*: calcula la diferencia entre la banda 8 y la 4 (tambien seleccionada).\n",
        "*   *divide*: calcula el cociente entre la diferencia anterior y la suma de las dos bandas.\n",
        "*   add: es el método para sumar la banda 4 y 8."
      ]
    },
    {
      "cell_type": "code",
      "metadata": {
        "id": "HNk2uDOLqTEW",
        "colab_type": "code",
        "colab": {}
      },
      "source": [
        "#Calculo de NDVI: Opcion 1\n",
        "#--------------------------\n",
        "#Carga una imagen Sentinel 2\n",
        "imagen=ee.Image('COPERNICUS/S2/20170412T110621_20170412T111708_T30SUG')\n",
        "\n",
        "# Seleccionamos la banda 4 y 8 correspondientes al rojo y al NIR\n",
        "ndvi_opcion1 = imagen.select('B8').subtract(imagen.select('B4')).divide(imagen.select('B8').add(imagen.select('B4')))"
      ],
      "execution_count": 0,
      "outputs": []
    },
    {
      "cell_type": "markdown",
      "metadata": {
        "colab_type": "text",
        "id": "hu6RoVri0gTD"
      },
      "source": [
        "Una alternativa mas sencilla y limpia a la hora de escribir el código en este caso es mediante el uso del método ***normalizedDifference()***, pasando como parámetros las bandas con las que queremos calcular la diferencia normalizada."
      ]
    },
    {
      "cell_type": "code",
      "metadata": {
        "id": "m0_GoK6AydaX",
        "colab_type": "code",
        "colab": {}
      },
      "source": [
        "#Calculo de NDVI: Opcion 2\n",
        "#--------------------------\n",
        "#Carga una imagen Sentinel 2\n",
        "imagen=ee.Image('COPERNICUS/S2/20170412T110621_20170412T111708_T30SUG')\n",
        "\n",
        "# Seleccionamos la banda 4 y 8 correspondientes al rojo y al NIR\n",
        "ndvi_opcion2 = imagen.normalizedDifference(['B4', 'B8'])\n",
        "\n",
        "ndvi_opcion3 = imagen.normalizedDifference(['B8', 'B4'])\n",
        "\n"
      ],
      "execution_count": 0,
      "outputs": []
    },
    {
      "cell_type": "markdown",
      "metadata": {
        "id": "JbnXyXgl9_fF",
        "colab_type": "text"
      },
      "source": [
        "Una vez que sabemos como calcular un índice de vegetación a través de expresiones matemáticas vamos represetar el resultado en un visor interactivo.\n",
        "En este caso vamos a crear una paleta de colores para representar la imágen de NDVI a través de la variable `ndvi_params`. En esta variable se ha establecido los valores máximos y minimos como 1 y -1 y la gama de colores a emplear en este rango a través del código hexadecimal de cada uno de los colores.\n",
        "\n",
        "En este [link](https://htmlcolorcodes.com/es/) se puede consultar el código hexadecimal de un color así como sus valores en el espacio de color RGB, CMYK y HSL."
      ]
    },
    {
      "cell_type": "code",
      "metadata": {
        "id": "mHP0QPQm9jEl",
        "colab_type": "code",
        "outputId": "b78c938b-b063-4465-b248-83b0b75781d1",
        "colab": {
          "base_uri": "https://localhost:8080/",
          "height": 531
        }
      },
      "source": [
        "#Debe haberse ejecutado anteriormente el calculo del índice NDVI y todas las funciones creadas anteriormene\n",
        "\n",
        "#Parámetros de visualización NDVI, incluye una paleta de color\n",
        "ndvi_params = {'min':0, 'max': 1, \n",
        "          'palette': ['FFFFFF','CE7E45','DF923D','F1B555','FCD163','99B718',\n",
        "          '74A901','66A000','529400','3E8601','207401','056201','004C00',\n",
        "          '023B01','012E01','011D01','011301']\n",
        "}\n",
        "\n",
        "#Llamada a la función centro para obtener las coordenada centrales de la escena\n",
        "coordenadas_centrales=centro(imagen)\n",
        "longitud=coordenadas_centrales[0]\n",
        "latitud=coordenadas_centrales[1]\n",
        "                 \n",
        "# Creacion de un objeto de tipo folium map\n",
        "\n",
        "mi_mapa = folium.Map(location=[latitud,longitud], zoom_start=12, height=1000)\n",
        "\n",
        "# Añade la imagen al objeto mapa.\n",
        "mi_mapa.add_ee_layer(imagen,vis_params_falso_color, 'Sentinel')\n",
        "mi_mapa.add_ee_layer(ndvi_opcion2,ndvi_params, 'NDVI')\n",
        "mi_mapa.add_ee_layer(ndvi_opcion3,ndvi_params, 'NDVI2')\n",
        "\n",
        "# Añade un panel de control de capas en el mapa.\n",
        "mi_mapa.add_child(folium.LayerControl())\n",
        "\n",
        "# Muestra el mapa.\n",
        "display(mi_mapa)"
      ],
      "execution_count": 0,
      "outputs": [
        {
          "output_type": "display_data",
          "data": {
            "text/html": [
              "<div style=\"width:100%;\"><div style=\"position:relative;width:100%;height:0;padding-bottom:60%;\"><iframe src=\"data:text/html;charset=utf-8;base64,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\" style=\"position:absolute;width:100%;height:100%;left:0;top:0;border:none !important;\" allowfullscreen webkitallowfullscreen mozallowfullscreen></iframe></div></div>"
            ],
            "text/plain": [
              "<folium.folium.Map at 0x7f54491c04e0>"
            ]
          },
          "metadata": {
            "tags": []
          }
        }
      ]
    },
    {
      "cell_type": "markdown",
      "metadata": {
        "id": "E0wBCxGiOVrL",
        "colab_type": "text"
      },
      "source": [
        "Otra alternativa algo mas compleja para introduccir expresiones matemáticas se basa en emplear el método **expresssion()**, empleado siempre que el cálculo no se base en una diferencia normalizada.\n",
        "\n",
        "Al usar `expresion()` el primer argumento se corresponde con la representación en modo texto de la operación matemática. El segundo argumento es un diccionario donde las entradas son los nombres de las variables empleadas en la expresión, siendo sus valores las bandas a emplear. \n",
        "\n",
        "Las bandas espectrales de la imagen se referenciarán bien mediante b(\"nombre de bandas\") o b(indice)\n",
        "\n",
        "Vamos a modo de ejemplo a estudiar como calcular el índice EVI: $EVI=2.5\\cdot \\frac{NIR-RED}{NIR+6\\cdot RED-7.5\\cdot BLUE+1}$"
      ]
    },
    {
      "cell_type": "code",
      "metadata": {
        "id": "nM3G2tEogNON",
        "colab_type": "code",
        "outputId": "f12f2ce0-53de-4568-c5a1-480abd7d498f",
        "colab": {
          "base_uri": "https://localhost:8080/",
          "height": 531
        }
      },
      "source": [
        "#Script para calcular el índice EVI\n",
        "imagen=ee.Image('COPERNICUS/S2/20170412T110621_20170412T111708_T30SUG')\n",
        "\n",
        "# Calculo de EVI mediante una expresión regular.\n",
        "EVI = imagen.expression(\n",
        "      '2.5 * ((NIR - RED) / (NIR + 6 * RED - 7.5 * BLUE + 1))', {\n",
        "      'NIR': imagen.select('B8'), \n",
        "      'RED': imagen.select('B4'),\n",
        "      'BLUE': imagen.select('B2')})\n",
        "\n",
        "#Presenciación de resultados\n",
        "EVI_viz = {'min': 0, 'max': 1, 'palette': ['FF0000', '00FF00']} #Parámetros de visualización\n",
        "\n",
        "vis_params_RGB = {\n",
        "  'min': 0,\n",
        "  'max': 3500,\n",
        "  'bands': ['B4', 'B2', 'B2']}\n",
        "# Creacion de un objeto de tipo folium map\n",
        "# Se estan empleando los mismos valores centrales de la imagen que en codigo anteriores.\n",
        "mi_mapa = folium.Map(location=[latitud,longitud], zoom_start=12, height=1000)\n",
        "\n",
        "# Añade la imagen al objeto mapa.\n",
        "mi_mapa.add_ee_layer(imagen,vis_params_RGB, 'Sentinel')\n",
        "mi_mapa.add_ee_layer(EVI,EVI_viz, 'EVI')\n",
        "\n",
        "# Añade un panel de control de capas en el mapa.\n",
        "mi_mapa.add_child(folium.LayerControl())\n",
        "\n",
        "# Muestra el mapa.\n",
        "display(mi_mapa)"
      ],
      "execution_count": 0,
      "outputs": [
        {
          "output_type": "display_data",
          "data": {
            "text/html": [
              "<div style=\"width:100%;\"><div style=\"position:relative;width:100%;height:0;padding-bottom:60%;\"><iframe src=\"data:text/html;charset=utf-8;base64,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\" style=\"position:absolute;width:100%;height:100%;left:0;top:0;border:none !important;\" allowfullscreen webkitallowfullscreen mozallowfullscreen></iframe></div></div>"
            ],
            "text/plain": [
              "<folium.folium.Map at 0x7f54491c0a90>"
            ]
          },
          "metadata": {
            "tags": []
          }
        }
      ]
    },
    {
      "cell_type": "markdown",
      "metadata": {
        "id": "zSnX-dBNi7ln",
        "colab_type": "text"
      },
      "source": [
        "\n",
        "Nota Python: La división de dos número enteros da como resultado un número entero. Por ejemplo 5 / 2 = 2. Si queremos obtener un valor decimal sera necesario multiplicar uno de los operadores por 1.0, es decir, 5*1.0/2=2.5.\n",
        "\n"
      ]
    },
    {
      "cell_type": "markdown",
      "metadata": {
        "id": "7IUS4T1xA--J",
        "colab_type": "text"
      },
      "source": [
        "En el siguiente script se trabaja con 3 escenas Sentinel correspondientes a los meses de abril, mayo y junio. Para cada una de las escenas se ha generado una nueva imagen con el resultado del índice NDVI. Además, cada una de las imagenes de NDVI ha pasado a formar parte de una banda de una variable imagen denominada `composiscion_ndvi`."
      ]
    },
    {
      "cell_type": "code",
      "metadata": {
        "id": "8iY4f7tRBAU3",
        "colab_type": "code",
        "outputId": "ca48ab6a-dc43-4b94-f88d-b322977bd469",
        "colab": {
          "base_uri": "https://localhost:8080/",
          "height": 531
        }
      },
      "source": [
        "imagen_abril=ee.Image('COPERNICUS/S2/20170412T110621_20170412T111708_T30SUG');\n",
        "imagen_mayo=ee.Image('COPERNICUS/S2/20170502T110621_20170502T110937_T30SUG');\n",
        "imagen_junio=ee.Image('COPERNICUS/S2/20170611T110621_20170611T111012_T30SUG');\n",
        "\n",
        "vizParamsNIR = {\n",
        "  'bands': ['B8','B3','B2'],\n",
        "  'min': 1000, \n",
        "  'max': 5000,\n",
        "  'gamma': 2\n",
        "};\n",
        "\n",
        "vizParams_NDVI = {\n",
        "  'min': 0, \n",
        "  'max': 1,\n",
        "  'palette': [\n",
        "    'FFFFFF', 'CE7E45', 'DF923D', 'F1B555', 'FCD163', '99B718',\n",
        "    '74A901', '66A000', '529400', '3E8601', '207401', '056201',\n",
        "    '004C00', '023B01', '012E01', '011D01', '011301']\n",
        "};\n",
        "\n",
        "NDVI_abril= imagen_abril.normalizedDifference(['B8','B4']).rename('NDVI');\n",
        "NDVI_mayo= imagen_mayo.normalizedDifference(['B8','B4']).rename('NDVI');\n",
        "NDVI_junio= imagen_junio.normalizedDifference(['B8','B4']).rename('NDVI');\n",
        "\n",
        "composicion_NDVI= NDVI_abril;\n",
        "\n",
        "composicion_NDVI=composicion_NDVI.addBands(NDVI_mayo);\n",
        "composicion_NDVI=composicion_NDVI.addBands(NDVI_junio);\n",
        "\n",
        "vizNDVI_composicion = {\n",
        "  'bands': ['NDVI','NDVI_1','NDVI_2'],\n",
        "  'min': 0, \n",
        "  'max': 1,\n",
        "  'gamma': 2\n",
        "};\n",
        "\n",
        "coordenadas_centrales=centro(imagen_abril)\n",
        "longitud=coordenadas_centrales[0]\n",
        "latitud=coordenadas_centrales[1]\n",
        "mi_mapa = folium.Map(location=[latitud,longitud], zoom_start=11, height=1000)\n",
        "\n",
        "# Añade la imagen al objeto mapa.\n",
        "mi_mapa.add_ee_layer(imagen_abril,vizParamsNIR, 'Sentinel 2 - Abril')\n",
        "mi_mapa.add_ee_layer(imagen_mayo,vizParamsNIR, 'Sentinel 2 - Mayo')\n",
        "mi_mapa.add_ee_layer(imagen_junio,vizParamsNIR, 'Sentinel 2 - Junio')\n",
        "\n",
        "mi_mapa.add_ee_layer(NDVI_abril,vizParams_NDVI, 'NDVI - Abril')\n",
        "mi_mapa.add_ee_layer(NDVI_mayo,vizParams_NDVI, 'NDVI - Mayo')\n",
        "mi_mapa.add_ee_layer(NDVI_junio,vizParams_NDVI, 'NDVI - Junio')\n",
        "\n",
        "mi_mapa.add_ee_layer(composicion_NDVI,vizNDVI_composicion, 'Composicion NDVI')\n",
        "\n",
        "# Añade un panel de control de capas en el mapa.\n",
        "mi_mapa.add_child(folium.LayerControl())\n",
        "\n",
        "# Muestra el mapa.\n",
        "display(mi_mapa)\n"
      ],
      "execution_count": 0,
      "outputs": [
        {
          "output_type": "display_data",
          "data": {
            "text/html": [
              "<div style=\"width:100%;\"><div style=\"position:relative;width:100%;height:0;padding-bottom:60%;\"><iframe src=\"data:text/html;charset=utf-8;base64,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\" style=\"position:absolute;width:100%;height:100%;left:0;top:0;border:none !important;\" allowfullscreen webkitallowfullscreen mozallowfullscreen></iframe></div></div>"
            ],
            "text/plain": [
              "<folium.folium.Map at 0x7f5449fb1a20>"
            ]
          },
          "metadata": {
            "tags": []
          }
        }
      ]
    },
    {
      "cell_type": "markdown",
      "metadata": {
        "id": "hA9Lu1k5LcM-",
        "colab_type": "text"
      },
      "source": [
        "Al igual que es posible aplicar operaciones algebraicas entre bandas es posible emplear condiciones para hacer seleccion de pixeles que posteriormente podemos emplear por ejemplo para generar una mascara sobre una imagen, para ello empleareos el método **updateMask()**.\n",
        "\n",
        "En este ejemplo, aprovechando el resultado de celdas anteriores se representa, considerando la escena Sentinel 2 del mes de abril, aquellos píxeles de NDVI con valor superior o igual a 0.4, empleando para ello **gte()** (*greater than equal*)."
      ]
    },
    {
      "cell_type": "code",
      "metadata": {
        "id": "1B5SdKKLLfBU",
        "colab_type": "code",
        "outputId": "3fe388c1-69b2-4005-ac64-c2b257f4b684",
        "colab": {
          "base_uri": "https://localhost:8080/",
          "height": 531
        }
      },
      "source": [
        "vegetacion=NDVI_abril.updateMask(NDVI_abril.gte(0.4));\n",
        "\n",
        "mi_mapa = folium.Map(location=[latitud,longitud], zoom_start=11, height=1000)\n",
        "mi_mapa.add_ee_layer(vegetacion,vizParams_NDVI, 'NDVI >= 0.4')\n",
        "\n",
        "# Añade un panel de control de capas en el mapa.\n",
        "mi_mapa.add_child(folium.LayerControl())\n",
        "\n",
        "# Muestra el mapa.\n",
        "display(mi_mapa)"
      ],
      "execution_count": 0,
      "outputs": [
        {
          "output_type": "display_data",
          "data": {
            "text/html": [
              "<div style=\"width:100%;\"><div style=\"position:relative;width:100%;height:0;padding-bottom:60%;\"><iframe src=\"data:text/html;charset=utf-8;base64,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\" style=\"position:absolute;width:100%;height:100%;left:0;top:0;border:none !important;\" allowfullscreen webkitallowfullscreen mozallowfullscreen></iframe></div></div>"
            ],
            "text/plain": [
              "<folium.folium.Map at 0x7f5449717c50>"
            ]
          },
          "metadata": {
            "tags": []
          }
        }
      ]
    }
  ]
}