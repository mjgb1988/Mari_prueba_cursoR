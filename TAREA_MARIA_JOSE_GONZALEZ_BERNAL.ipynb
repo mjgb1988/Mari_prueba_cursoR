{
  "nbformat": 4,
  "nbformat_minor": 0,
  "metadata": {
    "colab": {
      "name": "TAREA MARIA JOSE GONZALEZ BERNAL.ipynb",
      "provenance": [],
      "collapsed_sections": [],
      "authorship_tag": "ABX9TyO1cVRrTUnwhZm4GujdYNzl",
      "include_colab_link": true
    },
    "kernelspec": {
      "name": "python3",
      "display_name": "Python 3"
    }
  },
  "cells": [
    {
      "cell_type": "markdown",
      "metadata": {
        "id": "view-in-github",
        "colab_type": "text"
      },
      "source": [
        "<a href=\"https://colab.research.google.com/github/mjgb1988/Mari_prueba_cursoR/blob/master/TAREA_MARIA_JOSE_GONZALEZ_BERNAL.ipynb\" target=\"_parent\"><img src=\"https://colab.research.google.com/assets/colab-badge.svg\" alt=\"Open In Colab\"/></a>"
      ]
    },
    {
      "cell_type": "markdown",
      "metadata": {
        "id": "Qv3q-rmW8KF9",
        "colab_type": "text"
      },
      "source": [
        "**TAREA: PROCESADO Y ANÁLISIS DE SERIES TEMPORALES DE IMÁGENES**"
      ]
    },
    {
      "cell_type": "markdown",
      "metadata": {
        "id": "WFC3KXum9Mys",
        "colab_type": "text"
      },
      "source": [
        "*A partir de la delimitación de tres parcelas de girasol y dos parcelas de trigo de la cuál se conoce la fecha de cosecha, y empleando los datos recogidos por la plataforma Sentinel 2 del programa de observación de la Tierra Copernicus, se desea obtener:*"
      ]
    },
    {
      "cell_type": "markdown",
      "metadata": {
        "id": "Kil1QFF_-NrO",
        "colab_type": "text"
      },
      "source": [
        "*Cada una de las curvas de evolución de los apartados 1 y 2 se obtendrán atendiendo a los siguientes criterios:*\n",
        "\n",
        "*a. No se tendrá en cuenta el porcentaje de nubes a la hora de crear     la colección de imágenes.*\n",
        "\n",
        "*b. Atendiendo al criterio anterior, aplicar una máscara de nubes.*\n",
        "\n",
        "*c. Establecer un porcentaje de nubes a la hora de crear la colección,   seleccionado por el alumno y generar una nueva gráfica de\n",
        "   evolución.*\n",
        "\n",
        "*d. A la colección del apartado \"c\" aplicar además una máscara de\n",
        "   nubes.*\n"
      ]
    },
    {
      "cell_type": "code",
      "metadata": {
        "id": "BHvmZRG2_tvx",
        "colab_type": "code",
        "colab": {
          "base_uri": "https://localhost:8080/",
          "height": 122
        },
        "outputId": "7c5c8e17-23f2-4d9e-dd96-b8480f32ede0"
      },
      "source": [
        "from google.colab import drive\n",
        "drive.mount('/content/drive')"
      ],
      "execution_count": 1,
      "outputs": [
        {
          "output_type": "stream",
          "text": [
            "Go to this URL in a browser: https://accounts.google.com/o/oauth2/auth?client_id=947318989803-6bn6qk8qdgf4n4g3pfee6491hc0brc4i.apps.googleusercontent.com&redirect_uri=urn%3aietf%3awg%3aoauth%3a2.0%3aoob&response_type=code&scope=email%20https%3a%2f%2fwww.googleapis.com%2fauth%2fdocs.test%20https%3a%2f%2fwww.googleapis.com%2fauth%2fdrive%20https%3a%2f%2fwww.googleapis.com%2fauth%2fdrive.photos.readonly%20https%3a%2f%2fwww.googleapis.com%2fauth%2fpeopleapi.readonly\n",
            "\n",
            "Enter your authorization code:\n",
            "··········\n",
            "Mounted at /content/drive\n"
          ],
          "name": "stdout"
        }
      ]
    },
    {
      "cell_type": "code",
      "metadata": {
        "id": "3utju3eS_zhX",
        "colab_type": "code",
        "colab": {
          "base_uri": "https://localhost:8080/",
          "height": 173
        },
        "outputId": "085ced92-a793-4e4f-8f78-928fe8b69bab"
      },
      "source": [
        "import ee\n",
        "\n",
        "ee.Authenticate()\n",
        "ee.Initialize()"
      ],
      "execution_count": 3,
      "outputs": [
        {
          "output_type": "stream",
          "text": [
            "To authorize access needed by Earth Engine, open the following URL in a web browser and follow the instructions. If the web browser does not start automatically, please manually browse the URL below.\n",
            "\n",
            "    https://accounts.google.com/o/oauth2/auth?client_id=517222506229-vsmmajv00ul0bs7p89v5m89qs8eb9359.apps.googleusercontent.com&scope=https%3A%2F%2Fwww.googleapis.com%2Fauth%2Fearthengine+https%3A%2F%2Fwww.googleapis.com%2Fauth%2Fdevstorage.full_control&redirect_uri=urn%3Aietf%3Awg%3Aoauth%3A2.0%3Aoob&response_type=code&code_challenge=-r0g7k6BhwtgKa64vcrGghb5cZ5UFBmFq175LpUKwDc&code_challenge_method=S256\n",
            "\n",
            "The authorization workflow will generate a code, which you should paste in the box below. \n",
            "Enter verification code: 4/xgHoiyjyO2M4HklrZPnOLUEcZDmnyE0tuyANAFGRYKI2CRjLDGtDGgM\n",
            "\n",
            "Successfully saved authorization token.\n"
          ],
          "name": "stdout"
        }
      ]
    },
    {
      "cell_type": "markdown",
      "metadata": {
        "id": "TcivaU1C9ste",
        "colab_type": "text"
      },
      "source": [
        "**1. La curva de evolución de tres índices de vegetación, a elegir por el alumno, para cada cultivo.**"
      ]
    },
    {
      "cell_type": "code",
      "metadata": {
        "id": "8msWd4r9KLn2",
        "colab_type": "code",
        "colab": {
          "base_uri": "https://localhost:8080/",
          "height": 649
        },
        "outputId": "58edeb4d-ece6-4b78-c16c-b92ce557502f"
      },
      "source": [
        "#Librerias que necesito para cargar un shapefile desde Google Drive.\n",
        "!pip install geetools \n",
        "!pip install pycrs "
      ],
      "execution_count": 4,
      "outputs": [
        {
          "output_type": "stream",
          "text": [
            "Collecting geetools\n",
            "\u001b[?25l  Downloading https://files.pythonhosted.org/packages/9e/01/5fa97297cd790820539e56958d364385b882f7be19986f3a4bb7f9be43e5/geetools-0.4.15.tar.gz (76kB)\n",
            "\u001b[K     |████████████████████████████████| 81kB 2.3MB/s \n",
            "\u001b[?25hRequirement already satisfied: requests in /usr/local/lib/python3.6/dist-packages (from geetools) (2.21.0)\n",
            "Requirement already satisfied: Pillow in /usr/local/lib/python3.6/dist-packages (from geetools) (7.0.0)\n",
            "Collecting pyshp\n",
            "\u001b[?25l  Downloading https://files.pythonhosted.org/packages/27/16/3bf15aa864fb77845fab8007eda22c2bd67bd6c1fd13496df452c8c43621/pyshp-2.1.0.tar.gz (215kB)\n",
            "\u001b[K     |████████████████████████████████| 225kB 8.6MB/s \n",
            "\u001b[?25hRequirement already satisfied: pandas in /usr/local/lib/python3.6/dist-packages (from geetools) (0.25.3)\n",
            "Requirement already satisfied: idna<2.9,>=2.5 in /usr/local/lib/python3.6/dist-packages (from requests->geetools) (2.8)\n",
            "Requirement already satisfied: chardet<3.1.0,>=3.0.2 in /usr/local/lib/python3.6/dist-packages (from requests->geetools) (3.0.4)\n",
            "Requirement already satisfied: urllib3<1.25,>=1.21.1 in /usr/local/lib/python3.6/dist-packages (from requests->geetools) (1.24.3)\n",
            "Requirement already satisfied: certifi>=2017.4.17 in /usr/local/lib/python3.6/dist-packages (from requests->geetools) (2019.11.28)\n",
            "Requirement already satisfied: numpy>=1.13.3 in /usr/local/lib/python3.6/dist-packages (from pandas->geetools) (1.18.1)\n",
            "Requirement already satisfied: python-dateutil>=2.6.1 in /usr/local/lib/python3.6/dist-packages (from pandas->geetools) (2.8.1)\n",
            "Requirement already satisfied: pytz>=2017.2 in /usr/local/lib/python3.6/dist-packages (from pandas->geetools) (2018.9)\n",
            "Requirement already satisfied: six>=1.5 in /usr/local/lib/python3.6/dist-packages (from python-dateutil>=2.6.1->pandas->geetools) (1.12.0)\n",
            "Building wheels for collected packages: geetools, pyshp\n",
            "  Building wheel for geetools (setup.py) ... \u001b[?25l\u001b[?25hdone\n",
            "  Created wheel for geetools: filename=geetools-0.4.15-cp36-none-any.whl size=98234 sha256=9a85d3e2e097bdf4fd3a82a28770adbad7983a849b811e798bb0e3d3d54b66fa\n",
            "  Stored in directory: /root/.cache/pip/wheels/a9/29/4b/8b23d7a814fd5b03acab81a0a721c4dc0d782fed28760b636a\n",
            "  Building wheel for pyshp (setup.py) ... \u001b[?25l\u001b[?25hdone\n",
            "  Created wheel for pyshp: filename=pyshp-2.1.0-cp36-none-any.whl size=32609 sha256=26fe941e939bfd6b493086f5ad5c64715b4a3aeace67a44a563ec5d7bab6603f\n",
            "  Stored in directory: /root/.cache/pip/wheels/a6/0c/de/321b5192ad416b328975a2f0385f72c64db4656501eba7cc1a\n",
            "Successfully built geetools pyshp\n",
            "Installing collected packages: pyshp, geetools\n",
            "Successfully installed geetools-0.4.15 pyshp-2.1.0\n",
            "Collecting pycrs\n",
            "  Downloading https://files.pythonhosted.org/packages/50/0b/33c6ab39701d982eabfdc732d920862d79d7598893c7291c5f6ec1e66d3c/PyCRS-1.0.2.tar.gz\n",
            "Building wheels for collected packages: pycrs\n",
            "  Building wheel for pycrs (setup.py) ... \u001b[?25l\u001b[?25hdone\n",
            "  Created wheel for pycrs: filename=PyCRS-1.0.2-cp36-none-any.whl size=32683 sha256=41dd432f022a623b81020e2d5abeb60b27ca3c312f41bef4e05bbe686e9bae9e\n",
            "  Stored in directory: /root/.cache/pip/wheels/1a/c9/56/648f762bd41fdb03454be51b8a7069795925168833cb61f316\n",
            "Successfully built pycrs\n",
            "Installing collected packages: pycrs\n",
            "Successfully installed pycrs-1.0.2\n"
          ],
          "name": "stdout"
        }
      ]
    },
    {
      "cell_type": "code",
      "metadata": {
        "id": "MtdXOzqiK1k8",
        "colab_type": "code",
        "colab": {
          "base_uri": "https://localhost:8080/",
          "height": 54
        },
        "outputId": "172a0831-eaea-4a96-e6d7-5cbe500f7787"
      },
      "source": [
        "#Acceso a nuestro espacio en Google Drive.\n",
        "from google.colab import auth, drive\n",
        "auth.authenticate_user()\n",
        "\n",
        "drive.mount('/content/drive')"
      ],
      "execution_count": 10,
      "outputs": [
        {
          "output_type": "stream",
          "text": [
            "Drive already mounted at /content/drive; to attempt to forcibly remount, call drive.mount(\"/content/drive\", force_remount=True).\n"
          ],
          "name": "stdout"
        }
      ]
    },
    {
      "cell_type": "code",
      "metadata": {
        "id": "hWIDadBfXoQq",
        "colab_type": "code",
        "colab": {}
      },
      "source": [
        "#Función para definir coordenadas centrales de colección de imágenes.\n",
        "def centro_colección(coleccion):\n",
        "  lista=colección.toList(coleccion.size())\n",
        "  latitud_suma=0\n",
        "  longitud_suma=0\n",
        "  for i in range(0,lista.size().getInfo()):\n",
        "    img=ee.Image(lista.get(i))\n",
        "    coordenadas=imagen.get('system:footprint').getInfo()['coordinates']\n",
        "    longitud=0\n",
        "    latitud=0\n",
        "    for j in range(len(coordenadas)):\n",
        "      longitud= longitud+coordenadas[j-1][0]\n",
        "      latitud=latitud+coordenadas[j-1][1]\n",
        "\n",
        "      longitud=longitud/(len(coordenadas))\n",
        "      latitud=latitud/(len(coordenadas))\n",
        "\n",
        "      latitud_suma=latitud_suma+latitud\n",
        "      longitud_suma=longitud_suma+longitud\n",
        "\n",
        "  latitud_central=latitud_suma/lista.size().getInfo()\n",
        "  longitud_central=longitud_suma/lista.size().getInfo()\n",
        "\n",
        "  return (latitud_central,longitud_central)\n",
        "\n",
        "                 "
      ],
      "execution_count": 0,
      "outputs": []
    },
    {
      "cell_type": "code",
      "metadata": {
        "id": "OCxROXGVUP1g",
        "colab_type": "code",
        "colab": {}
      },
      "source": [
        "#Función Mapdisplay.\n",
        "\n",
        "import folium\n",
        "\n",
        "EE_TITLES = 'https://earthengine.googleapis.com/map/{mapid}/{{z}}/{{x}}/{{y}}?token={token}'\n",
        "\n",
        "def Mapdisplay(center, dicc, Tiles=\"OpensTreetMap\",zoom_start=10):\n",
        "    '''\n",
        "    :param center:Center of the map (Latitude and Longitude).\n",
        "    :param dicc: Earth Engine Geometries or Tiles dictionary\n",
        "    :param Tiles: Mapbox Bricht,Mapbox Control Room,Stamen Terrain,Stamen Toner,stamenwatercolor,cartodbpositron.\n",
        "    :zoom_start: Initial zoom level for the map.\n",
        "    :return: A folium.Map object.\n",
        "    '''\n",
        "    mapViz = folium.Map(location=center, tiles=Tiles, zoom_start=zoom_start)\n",
        "    for k,v in dicc.items():\n",
        "      if ee.image.Image in [type(x) for x in v.values()]:\n",
        "        folium.TileLayer(\n",
        "            tiles = v[\"tile_fetcher\"].url_format,\n",
        "            attr = 'Google Earth Engine',\n",
        "            overlay = True,\n",
        "            name = k\n",
        "          ).add_to(mapViz)\n",
        "      else:\n",
        "        folium.GeoJson(\n",
        "        data = v,\n",
        "        name = k\n",
        "          ).add_to(mapViz)\n",
        "    mapViz.add_child(folium.LayerControl())\n",
        "    return mapViz\n"
      ],
      "execution_count": 0,
      "outputs": []
    },
    {
      "cell_type": "code",
      "metadata": {
        "id": "Jw1y7YIYgXK1",
        "colab_type": "code",
        "colab": {
          "base_uri": "https://localhost:8080/",
          "height": 85
        },
        "outputId": "2de11a7b-bb30-4f90-c2d6-06bc1cc97a9c"
      },
      "source": [
        "def NDVI(entrada):\n",
        "  ndvi = entrada.normalizedDifference(['B8','B4'])\n",
        "  return (ndvi)\n",
        "\n",
        "coleccion_sentinel = ee.ImageCollection('COPERNICUS/S2_SR')\\\n",
        "           .filterBounds(parcela)\\\n",
        "           .filterDate('2019-01-01','2020-02-14')\\\n",
        "           .filterMetadata ('CLOUD_COVERAGE_ASSESMENT','less_than',5)\n",
        "\n",
        "coleccion_ndvi=coleccion_sentinel.map(NDVI)\n",
        "\n",
        "num_imagenes = coleccion_sentinel.size()\n",
        "print('Número de imágenes colección Sentinel 2: ', num_imagenes.getInfo())\n",
        "print('Número de imágenes colección NDVI: ', coleccion_ndvi.size().getInfo())\n",
        "print ()\n",
        "print('Información de una de las imágenes de la colección de NDVI')\n",
        "imagen = ee.Image(coleccion_ndvi.first());\n",
        "imagen.getInfo()\n"
      ],
      "execution_count": 32,
      "outputs": [
        {
          "output_type": "stream",
          "text": [
            "Número de imágenes colección Sentinel 2:  0\n",
            "Número de imágenes colección NDVI:  0\n",
            "\n",
            "Información de una de las imágenes de la colección de NDVI\n"
          ],
          "name": "stdout"
        }
      ]
    },
    {
      "cell_type": "code",
      "metadata": {
        "id": "jQG8ulFoNDpq",
        "colab_type": "code",
        "colab": {
          "base_uri": "https://localhost:8080/",
          "height": 548
        },
        "outputId": "29ce8313-68d8-456a-da94-c2f5faab54b4"
      },
      "source": [
        "import os\n",
        "from geetools import batch\n",
        "\n",
        "#Creo una variable \"path_file\" que contiene la ruta del archivo shapefile.\n",
        "#Creo otra variable \"parcela\" que lee el contenido de \"path_file\".\n",
        "path_file = os.path.join('/content/drive/My Drive/parcelas/parcelas.shp')\n",
        "parcela = batch.Import.table.fromShapefile(path_file)\n",
        "\n",
        "coleccion = ee.ImageCollection('COPERNICUS/S2')\\\n",
        "               .filterBounds(parcela)\\\n",
        "               .select(['B8', 'B4', 'B3'])\\\n",
        "               .filterDate ('2019-01-01','2020-02-14')\\\n",
        "\n",
        "mosaico = coleccion.mosaic()\n",
        "\n",
        "num_imagenes = coleccion.size()\n",
        "print('Número de imágenes: ', num_imagenes.getInfo())\n",
        "\n",
        "#Defino los parámetros de visualización.\n",
        "vis_params = {\n",
        "    'min': 500,\n",
        "    'max': 2500,\n",
        "    'bands': ['B8', 'B3', 'B4'],\n",
        "}\n",
        "\n",
        "#Determino el centroide de las geometrias de la tabla.\n",
        "centroide = parcela.geometry().centroid().getInfo()['coordinates']\n",
        "centroide.reverse()\n",
        "\n",
        "#Creo un diccionario con la colección de imáganes y las parcelas.\n",
        "dicc = {\n",
        "    'coleccion': coleccion.getMapId(vis_params),\n",
        "    'mosaico': mosaico.clip(parcela).getMapId(vis_params),\n",
        "    'parcela':parcela.getInfo()\n",
        "}\n",
        "\n",
        "#Represento resultados.\n",
        "Mapdisplay(centroide, dicc, zoom_start= 15)"
      ],
      "execution_count": 29,
      "outputs": [
        {
          "output_type": "stream",
          "text": [
            "Número de imágenes:  328\n"
          ],
          "name": "stdout"
        },
        {
          "output_type": "execute_result",
          "data": {
            "text/html": [
              "<div style=\"width:100%;\"><div style=\"position:relative;width:100%;height:0;padding-bottom:60%;\"><iframe src=\"about:blank\" style=\"position:absolute;width:100%;height:100%;left:0;top:0;border:none !important;\" data-html=PCFET0NUWVBFIGh0bWw+CjxoZWFkPiAgICAKICAgIDxtZXRhIGh0dHAtZXF1aXY9ImNvbnRlbnQtdHlwZSIgY29udGVudD0idGV4dC9odG1sOyBjaGFyc2V0PVVURi04IiAvPgogICAgPHNjcmlwdD5MX1BSRUZFUl9DQU5WQVM9ZmFsc2U7IExfTk9fVE9VQ0g9ZmFsc2U7IExfRElTQUJMRV8zRD1mYWxzZTs8L3NjcmlwdD4KICAgIDxzY3JpcHQgc3JjPSJodHRwczovL2Nkbi5qc2RlbGl2ci5uZXQvbnBtL2xlYWZsZXRAMS40LjAvZGlzdC9sZWFmbGV0LmpzIj48L3NjcmlwdD4KICAgIDxzY3JpcHQgc3JjPSJodHRwczovL2NvZGUuanF1ZXJ5LmNvbS9qcXVlcnktMS4xMi40Lm1pbi5qcyI+PC9zY3JpcHQ+CiAgICA8c2NyaXB0IHNyYz0iaHR0cHM6Ly9tYXhjZG4uYm9vdHN0cmFwY2RuLmNvbS9ib290c3RyYXAvMy4yLjAvanMvYm9vdHN0cmFwLm1pbi5qcyI+PC9zY3JpcHQ+CiAgICA8c2NyaXB0IHNyYz0iaHR0cHM6Ly9jZG5qcy5jbG91ZGZsYXJlLmNvbS9hamF4L2xpYnMvTGVhZmxldC5hd2Vzb21lLW1hcmtlcnMvMi4wLjIvbGVhZmxldC5hd2Vzb21lLW1hcmtlcnMuanMiPjwvc2NyaXB0PgogICAgPGxpbmsgcmVsPSJzdHlsZXNoZWV0IiBocmVmPSJodHRwczovL2Nkbi5qc2RlbGl2ci5uZXQvbnBtL2xlYWZsZXRAMS40LjAvZGlzdC9sZWFmbGV0LmNzcyIvPgogICAgPGxpbmsgcmVsPSJzdHlsZXNoZWV0IiBocmVmPSJodHRwczovL21heGNkbi5ib290c3RyYXBjZG4uY29tL2Jvb3RzdHJhcC8zLjIuMC9jc3MvYm9vdHN0cmFwLm1pbi5jc3MiLz4KICAgIDxsaW5rIHJlbD0ic3R5bGVzaGVldCIgaHJlZj0iaHR0cHM6Ly9tYXhjZG4uYm9vdHN0cmFwY2RuLmNvbS9ib290c3RyYXAvMy4yLjAvY3NzL2Jvb3RzdHJhcC10aGVtZS5taW4uY3NzIi8+CiAgICA8bGluayByZWw9InN0eWxlc2hlZXQiIGhyZWY9Imh0dHBzOi8vbWF4Y2RuLmJvb3RzdHJhcGNkbi5jb20vZm9udC1hd2Vzb21lLzQuNi4zL2Nzcy9mb250LWF3ZXNvbWUubWluLmNzcyIvPgogICAgPGxpbmsgcmVsPSJzdHlsZXNoZWV0IiBocmVmPSJodHRwczovL2NkbmpzLmNsb3VkZmxhcmUuY29tL2FqYXgvbGlicy9MZWFmbGV0LmF3ZXNvbWUtbWFya2Vycy8yLjAuMi9sZWFmbGV0LmF3ZXNvbWUtbWFya2Vycy5jc3MiLz4KICAgIDxsaW5rIHJlbD0ic3R5bGVzaGVldCIgaHJlZj0iaHR0cHM6Ly9yYXdjZG4uZ2l0aGFjay5jb20vcHl0aG9uLXZpc3VhbGl6YXRpb24vZm9saXVtL21hc3Rlci9mb2xpdW0vdGVtcGxhdGVzL2xlYWZsZXQuYXdlc29tZS5yb3RhdGUuY3NzIi8+CiAgICA8c3R5bGU+aHRtbCwgYm9keSB7d2lkdGg6IDEwMCU7aGVpZ2h0OiAxMDAlO21hcmdpbjogMDtwYWRkaW5nOiAwO308L3N0eWxlPgogICAgPHN0eWxlPiNtYXAge3Bvc2l0aW9uOmFic29sdXRlO3RvcDowO2JvdHRvbTowO3JpZ2h0OjA7bGVmdDowO308L3N0eWxlPgogICAgCiAgICA8bWV0YSBuYW1lPSJ2aWV3cG9ydCIgY29udGVudD0id2lkdGg9ZGV2aWNlLXdpZHRoLAogICAgICAgIGluaXRpYWwtc2NhbGU9MS4wLCBtYXhpbXVtLXNjYWxlPTEuMCwgdXNlci1zY2FsYWJsZT1ubyIgLz4KICAgIDxzdHlsZT4jbWFwX2ZmZDljOGMxNWNhYTQwOWNiNjc5NDU4ZjA2ZDJlOTY4IHsKICAgICAgICBwb3NpdGlvbjogcmVsYXRpdmU7CiAgICAgICAgd2lkdGg6IDEwMC4wJTsKICAgICAgICBoZWlnaHQ6IDEwMC4wJTsKICAgICAgICBsZWZ0OiAwLjAlOwogICAgICAgIHRvcDogMC4wJTsKICAgICAgICB9CiAgICA8L3N0eWxlPgo8L2hlYWQ+Cjxib2R5PiAgICAKICAgIAogICAgPGRpdiBjbGFzcz0iZm9saXVtLW1hcCIgaWQ9Im1hcF9mZmQ5YzhjMTVjYWE0MDljYjY3OTQ1OGYwNmQyZTk2OCIgPjwvZGl2Pgo8L2JvZHk+CjxzY3JpcHQ+ICAgIAogICAgCiAgICAKICAgICAgICB2YXIgYm91bmRzID0gbnVsbDsKICAgIAoKICAgIHZhciBtYXBfZmZkOWM4YzE1Y2FhNDA5Y2I2Nzk0NThmMDZkMmU5NjggPSBMLm1hcCgKICAgICAgICAnbWFwX2ZmZDljOGMxNWNhYTQwOWNiNjc5NDU4ZjA2ZDJlOTY4JywgewogICAgICAgIGNlbnRlcjogWzM3Ljg4ODA4NDM1NTc3MDEyNSwgLTQuNDYwMjgwMjY2MDE0NjY3XSwKICAgICAgICB6b29tOiAxNSwKICAgICAgICBtYXhCb3VuZHM6IGJvdW5kcywKICAgICAgICBsYXllcnM6IFtdLAogICAgICAgIHdvcmxkQ29weUp1bXA6IGZhbHNlLAogICAgICAgIGNyczogTC5DUlMuRVBTRzM4NTcsCiAgICAgICAgem9vbUNvbnRyb2w6IHRydWUsCiAgICAgICAgfSk7CgoKICAgIAogICAgdmFyIHRpbGVfbGF5ZXJfYmY3NmY3ZDY3ZThjNGRlZmIyMDMxNDc3Nzg3ODkwYTUgPSBMLnRpbGVMYXllcigKICAgICAgICAnaHR0cHM6Ly97c30udGlsZS5vcGVuc3RyZWV0bWFwLm9yZy97en0ve3h9L3t5fS5wbmcnLAogICAgICAgIHsKICAgICAgICAiYXR0cmlidXRpb24iOiBudWxsLAogICAgICAgICJkZXRlY3RSZXRpbmEiOiBmYWxzZSwKICAgICAgICAibWF4TmF0aXZlWm9vbSI6IDE4LAogICAgICAgICJtYXhab29tIjogMTgsCiAgICAgICAgIm1pblpvb20iOiAwLAogICAgICAgICJub1dyYXAiOiBmYWxzZSwKICAgICAgICAib3BhY2l0eSI6IDEsCiAgICAgICAgInN1YmRvbWFpbnMiOiAiYWJjIiwKICAgICAgICAidG1zIjogZmFsc2UKfSkuYWRkVG8obWFwX2ZmZDljOGMxNWNhYTQwOWNiNjc5NDU4ZjA2ZDJlOTY4KTsKICAgIHZhciB0aWxlX2xheWVyX2Y0NDBkZmU3NDY5NjRhOGE5YzQ5N2ZkMmM0MWNlZWI1ID0gTC50aWxlTGF5ZXIoCiAgICAgICAgJ2h0dHBzOi8vZWFydGhlbmdpbmUuZ29vZ2xlYXBpcy5jb20vdjFhbHBoYS9wcm9qZWN0cy9lYXJ0aGVuZ2luZS1sZWdhY3kvbWFwcy82YzI2MzZmZDdkOTFiODMwM2JiOWMxYjJkNzUwNzA4Zi03ZGViZWVkNWE4ZDYzZDkyYTNhOGRhYjgzOWVlM2U4NS90aWxlcy97en0ve3h9L3t5fScsCiAgICAgICAgewogICAgICAgICJhdHRyaWJ1dGlvbiI6ICJHb29nbGUgRWFydGggRW5naW5lIiwKICAgICAgICAiZGV0ZWN0UmV0aW5hIjogZmFsc2UsCiAgICAgICAgIm1heE5hdGl2ZVpvb20iOiAxOCwKICAgICAgICAibWF4Wm9vbSI6IDE4LAogICAgICAgICJtaW5ab29tIjogMCwKICAgICAgICAibm9XcmFwIjogZmFsc2UsCiAgICAgICAgIm9wYWNpdHkiOiAxLAogICAgICAgICJzdWJkb21haW5zIjogImFiYyIsCiAgICAgICAgInRtcyI6IGZhbHNlCn0pLmFkZFRvKG1hcF9mZmQ5YzhjMTVjYWE0MDljYjY3OTQ1OGYwNmQyZTk2OCk7CiAgICB2YXIgdGlsZV9sYXllcl84MjU4OGY1YjVjZTM0MmIwOTM1NmFkYzgzYWVmMTBmMyA9IEwudGlsZUxheWVyKAogICAgICAgICdodHRwczovL2VhcnRoZW5naW5lLmdvb2dsZWFwaXMuY29tL3YxYWxwaGEvcHJvamVjdHMvZWFydGhlbmdpbmUtbGVnYWN5L21hcHMvMDk2NjA2Njk5NDYyOWI1NmQxNjg5MGUyYmI5ZmZlZTktMTg3OTU4NmI2ODU0NjZkYjFkZDQzODMwOTViYWM4MzkvdGlsZXMve3p9L3t4fS97eX0nLAogICAgICAgIHsKICAgICAgICAiYXR0cmlidXRpb24iOiAiR29vZ2xlIEVhcnRoIEVuZ2luZSIsCiAgICAgICAgImRldGVjdFJldGluYSI6IGZhbHNlLAogICAgICAgICJtYXhOYXRpdmVab29tIjogMTgsCiAgICAgICAgIm1heFpvb20iOiAxOCwKICAgICAgICAibWluWm9vbSI6IDAsCiAgICAgICAgIm5vV3JhcCI6IGZhbHNlLAogICAgICAgICJvcGFjaXR5IjogMSwKICAgICAgICAic3ViZG9tYWlucyI6ICJhYmMiLAogICAgICAgICJ0bXMiOiBmYWxzZQp9KS5hZGRUbyhtYXBfZmZkOWM4YzE1Y2FhNDA5Y2I2Nzk0NThmMDZkMmU5NjgpOwogICAgCiAgICAgICAgdmFyIGdlb19qc29uX2IxNDJhOTE1NjA0ZDQyNmE5YjNlYTQ2OWExZDY0MTRhID0gTC5nZW9Kc29uKAogICAgICAgICAgICB7ImNvbHVtbnMiOiB7IkNvc2VjaGEiOiAiTG9uZyIsICJjdWx0aXZvIjogIlN0cmluZyIsICJzeXN0ZW06aW5kZXgiOiAiU3RyaW5nIn0sICJmZWF0dXJlcyI6IFt7Imdlb21ldHJ5IjogeyJjb29yZGluYXRlcyI6IFtbWy00LjUyNjg1OTMyNDYyMzIzMiwgMzcuOTEzMTM3Njc4NjI1MjI2XSwgWy00LjUyNzgyMDIzNzI1Mzk1MzYsIDM3LjkxMjk0ODExMDgyNzMzXSwgWy00LjUyOTgxMzk2NzU0MjE4NCwgMzcuOTEyNTQyODI3OTQ5MDddLCBbLTQuNTMwMTczNDkyNjc2MTI4LCAzNy45MTI0MzgyMzg4MTkxOV0sIFstNC41MzAxMDgxMjQ0Njk5NTYsIDM3LjkxMjE3Njc2NTk5NDUxXSwgWy00LjUyOTg5MjQwOTM4OTU5LCAzNy45MTE5OTM3MzUwMTcyM10sIFstNC41Mjk3Mjg5ODg4NzQxNjIsIDM3LjkxMTkwMjIxOTUyODU4NV0sIFstNC41Mjc3Njc5NDI2ODkwMTY1LCAzNy45MTE0MTg0OTQ4MDI5MTZdLCBbLTQuNTI2MTUzMzQ3OTk2NTgsIDM3LjkxMTAzMjgyMjM4NjVdLCBbLTQuNTI2MTY2NDIxNjM3ODE0LCAzNy45MTExMDQ3Mjc0MTMyOTZdLCBbLTQuNTI2NDQ3NTA0OTI0MzUyLCAzNy45MTE2MDE1MjU3ODAyXSwgWy00LjUyNjY2MzIyMDAwNDcxOCwgMzcuOTEyMTMxMDA4MjUwMTg1XSwgWy00LjUyNjc0MTY2MTg1MjEyNCwgMzcuOTEyNzM4OTMyNTY3NTg1XSwgWy00LjUyNjgwNzAzMDA1ODI5NSwgMzcuOTEyOTkzODY4NTcxNjU0XSwgWy00LjUyNjg1OTMyNDYyMzIzMiwgMzcuOTEzMTM3Njc4NjI1MjI2XV1dLCAidHlwZSI6ICJQb2x5Z29uIn0sICJpZCI6ICIwIiwgInByb3BlcnRpZXMiOiB7IkNvc2VjaGEiOiAxNTM0OTgyNDAwMDAwLCAiY3VsdGl2byI6ICJHaXJhc29sIiwgImhpZ2hsaWdodCI6IHt9LCAic3R5bGUiOiB7fX0sICJ0eXBlIjogIkZlYXR1cmUifSwgeyJnZW9tZXRyeSI6IHsiY29vcmRpbmF0ZXMiOiBbW1stNC41MDMwOTA1MDMyMDUyNTIsIDM3LjkzNDcyOTI3NDI2ODA0XSwgWy00LjUwNzQzMDg0NzMyOTM0NiwgMzcuOTM0MDMzMTE0MzI2Njk1XSwgWy00LjUwNzMxNzE4ODU2MzQxMjUsIDM3LjkzMzE3MzU2OTkwOTMyXSwgWy00LjUwMzUzMDkzMDkyMzI0NiwgMzcuOTMzNzg0NDg1Nzc2MjE1XSwgWy00LjUwMzQyNDM3NTgzMDE4MywgMzcuOTMzNzkxNTg5NDQ5MDg2XSwgWy00LjUwMzE0MDIyODkxNTM0OCwgMzcuOTM0NTU4Nzg2MTE5MTRdLCBbLTQuNTAzMDkwNTAzMjA1MjUyLCAzNy45MzQ3MjkyNzQyNjgwNF1dXSwgInR5cGUiOiAiUG9seWdvbiJ9LCAiaWQiOiAiMSIsICJwcm9wZXJ0aWVzIjogeyJDb3NlY2hhIjogMTUzNDk4MjQwMDAwMCwgImN1bHRpdm8iOiAiR2lyYXNvbCIsICJoaWdobGlnaHQiOiB7fSwgInN0eWxlIjoge319LCAidHlwZSI6ICJGZWF0dXJlIn0sIHsiZ2VvbWV0cnkiOiB7ImNvb3JkaW5hdGVzIjogW1tbLTQuNTM2ODAwNzgyNDAyMTEyLCAzNy45MzAzMTc4ODU2NjEyNl0sIFstNC41NDAxMjc4MzYzNTYxMTcsIDM3LjkyODUwNjEyMzYwNzFdLCBbLTQuNTQwMDAyNjYwMDY4NzM5LCAzNy45MjgxNDM3NzExOTYyN10sIFstNC41Mzk4MTgxODk3NTA0OTcsIDM3LjkyNzk1OTMwMDg3ODAzXSwgWy00LjUzOTY2MDA3MjMzNDg2LCAzNy45Mjc4MjA5NDgxMzkzNV0sIFstNC41MzkxNzI1NDM2MzY2NSwgMzcuOTI3MzQ2NTk1ODkyNDRdLCBbLTQuNTM2MDM2NTQ4MjI2NTM5LCAzNy45Mjg0NjY1OTQyNTMxOTRdLCBbLTQuNTM2MDI5OTYwMDAwODg4LCAzNy45Mjg1NzIwMDU4NjM2MTRdLCBbLTQuNTM2NjIyOTAwMzA5NTIxNSwgMzcuOTI5NTA3NTMzOTA2MTI2XSwgWy00LjUzNjY3NTYwNjExNDczNCwgMzcuOTMwMTMzNDE1MzQzMDJdLCBbLTQuNTM2ODAwNzgyNDAyMTEyLCAzNy45MzAzMTc4ODU2NjEyNl1dXSwgInR5cGUiOiAiUG9seWdvbiJ9LCAiaWQiOiAiMiIsICJwcm9wZXJ0aWVzIjogeyJDb3NlY2hhIjogMTUzNDU1MDQwMDAwMCwgImN1bHRpdm8iOiAiR2lyYXNvbCIsICJoaWdobGlnaHQiOiB7fSwgInN0eWxlIjoge319LCAidHlwZSI6ICJGZWF0dXJlIn0sIHsiZ2VvbWV0cnkiOiB7ImNvb3JkaW5hdGVzIjogW1tbLTQuNDY4NjY3OTQ0MDI1NjUzLCAzNy45OTg2NjAyNzAwODI4NF0sIFstNC40NjkzMzk1NjY3MjM3MjksIDM3Ljk5ODA4NDU5MzQ4NDQ4NV0sIFstNC40Njg2MDY4ODc0MTY3MzcsIDM3Ljk5NzMxNzAyNDY4NjY5XSwgWy00LjQ2Nzg2NTQ4NTczNzA0MywgMzcuOTk3NTk5MDQ4MDcwNzI1XSwgWy00LjQ2NzY1OTA1NjI0OTc1NSwgMzcuOTk3NzY3NjgwNjA5NjRdLCBbLTQuNDY3NTQ1NjY1NDA0NjI2LCAzNy45OTgwMjM1MzY4NzU1N10sIFstNC40NjgxNjc4NjEzMjQwNTYsIDM3Ljk5ODQzMDU4MDkzNTAxNV0sIFstNC40Njg0NzAyMzY5MTEwNjgsIDM3Ljk5ODU5NjMwNjAxNjM1XSwgWy00LjQ2ODY2Nzk0NDAyNTY1MywgMzcuOTk4NjYwMjcwMDgyODRdXV0sICJ0eXBlIjogIlBvbHlnb24ifSwgImlkIjogIjMiLCAicHJvcGVydGllcyI6IHsiQ29zZWNoYSI6IDE1MzE2OTkyMDAwMDAsICJjdWx0aXZvIjogIlRyaWdvIiwgImhpZ2hsaWdodCI6IHt9LCAic3R5bGUiOiB7fX0sICJ0eXBlIjogIkZlYXR1cmUifSwgeyJnZW9tZXRyeSI6IHsiY29vcmRpbmF0ZXMiOiBbW1stNC4yNTQ0Nzc2MDQ1NDcxODIsIDM3Ljc0MzMzODQ5MTI0NDM1XSwgWy00LjI1NTgzNzgwMTg3MDkwOSwgMzcuNzQxODExMjUyMTQ0MDI1XSwgWy00LjI1NDE2NzM4NDEwNDkyOCwgMzcuNzQwODkyNTIyMzcyNzNdLCBbLTQuMjUyNzQ3NTI5MDAzODQ1LCAzNy43NDE2NjIxMDc3MDA2MzRdLCBbLTQuMjUyMjA0NjQzMjI5OSwgMzcuNzQyMDczNzQ2MzY0MzldLCBbLTQuMjUzNjQyMzk1NjY0MTkxLCAzNy43NDI5MDg5NTUyNDczOF0sIFstNC4yNTQ0Nzc2MDQ1NDcxODIsIDM3Ljc0MzMzODQ5MTI0NDM1XV1dLCAidHlwZSI6ICJQb2x5Z29uIn0sICJpZCI6ICI0IiwgInByb3BlcnRpZXMiOiB7IkNvc2VjaGEiOiAxNTMxNTI2NDAwMDAwLCAiY3VsdGl2byI6ICJUcmlnbyIsICJoaWdobGlnaHQiOiB7fSwgInN0eWxlIjoge319LCAidHlwZSI6ICJGZWF0dXJlIn1dLCAidHlwZSI6ICJGZWF0dXJlQ29sbGVjdGlvbiJ9LAogICAgICAgICAgICB7CiAgICAgICAgICAgIH0KICAgICAgICApLmFkZFRvKG1hcF9mZmQ5YzhjMTVjYWE0MDljYjY3OTQ1OGYwNmQyZTk2OCApOwogICAgICAgIGdlb19qc29uX2IxNDJhOTE1NjA0ZDQyNmE5YjNlYTQ2OWExZDY0MTRhLnNldFN0eWxlKGZ1bmN0aW9uKGZlYXR1cmUpIHtyZXR1cm4gZmVhdHVyZS5wcm9wZXJ0aWVzLnN0eWxlO30pOwogICAgICAgIAogICAgCiAgICAgICAgICAgIHZhciBsYXllcl9jb250cm9sXzViZWE1NmU2YjdmMDRhMzg4OGE0Yjg5NWIxOTIyNzllID0gewogICAgICAgICAgICAgICAgYmFzZV9sYXllcnMgOiB7ICJvcGVuc3RyZWV0bWFwIiA6IHRpbGVfbGF5ZXJfYmY3NmY3ZDY3ZThjNGRlZmIyMDMxNDc3Nzg3ODkwYTUsIH0sCiAgICAgICAgICAgICAgICBvdmVybGF5cyA6IHsgImNvbGVjY2lvbiIgOiB0aWxlX2xheWVyX2Y0NDBkZmU3NDY5NjRhOGE5YzQ5N2ZkMmM0MWNlZWI1LCJtb3NhaWNvIiA6IHRpbGVfbGF5ZXJfODI1ODhmNWI1Y2UzNDJiMDkzNTZhZGM4M2FlZjEwZjMsInBhcmNlbGEiIDogZ2VvX2pzb25fYjE0MmE5MTU2MDRkNDI2YTliM2VhNDY5YTFkNjQxNGEsIH0KICAgICAgICAgICAgICAgIH07CiAgICAgICAgICAgIEwuY29udHJvbC5sYXllcnMoCiAgICAgICAgICAgICAgICBsYXllcl9jb250cm9sXzViZWE1NmU2YjdmMDRhMzg4OGE0Yjg5NWIxOTIyNzllLmJhc2VfbGF5ZXJzLAogICAgICAgICAgICAgICAgbGF5ZXJfY29udHJvbF81YmVhNTZlNmI3ZjA0YTM4ODhhNGI4OTViMTkyMjc5ZS5vdmVybGF5cywKICAgICAgICAgICAgICAgIHtwb3NpdGlvbjogJ3RvcHJpZ2h0JywKICAgICAgICAgICAgICAgICBjb2xsYXBzZWQ6IHRydWUsCiAgICAgICAgICAgICAgICAgYXV0b1pJbmRleDogdHJ1ZQogICAgICAgICAgICAgICAgfSkuYWRkVG8obWFwX2ZmZDljOGMxNWNhYTQwOWNiNjc5NDU4ZjA2ZDJlOTY4KTsKICAgICAgICAgICAgCiAgICAgICAgCjwvc2NyaXB0Pg== onload=\"this.contentDocument.open();this.contentDocument.write(atob(this.getAttribute('data-html')));this.contentDocument.close();\" allowfullscreen webkitallowfullscreen mozallowfullscreen></iframe></div></div>"
            ],
            "text/plain": [
              "<folium.folium.Map at 0x7f918e763198>"
            ]
          },
          "metadata": {
            "tags": []
          },
          "execution_count": 29
        }
      ]
    },
    {
      "cell_type": "markdown",
      "metadata": {
        "id": "O-CjN89G96zk",
        "colab_type": "text"
      },
      "source": [
        "**2. La curva de evolución a nivel individual de cada una de las parcelas facilitadas de los índices anteriores.**"
      ]
    },
    {
      "cell_type": "markdown",
      "metadata": {
        "id": "9SbyMJkG_UnT",
        "colab_type": "text"
      },
      "source": [
        "**3. Buscar en los dataset que ofrece Google Earth Engine para pintar en una gráfica la evolución de, al menos, una variable climática coincidente temporalmente con el ciclo de los cultivos de trabajo.**"
      ]
    }
  ]
}